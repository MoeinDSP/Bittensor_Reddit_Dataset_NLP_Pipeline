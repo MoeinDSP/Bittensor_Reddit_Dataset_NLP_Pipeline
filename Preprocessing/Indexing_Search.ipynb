{
  "cells": [
    {
      "cell_type": "code",
      "execution_count": null,
      "id": "24dd2832",
      "metadata": {
        "collapsed": true,
        "id": "24dd2832",
        "outputId": "709ff5dd-118d-4e59-9409-aafaca418e5b"
      },
      "outputs": [
        {
          "name": "stdout",
          "output_type": "stream",
          "text": [
            "Note: you may need to restart the kernel to use updated packages.\n",
            "Requirement already satisfied: python-terrier in c:\\users\\alime\\appdata\\local\\packages\\pythonsoftwarefoundation.python.3.10_qbz5n2kfra8p0\\localcache\\local-packages\\python310\\site-packages (0.13.0)\n",
            "Requirement already satisfied: numpy in c:\\users\\alime\\appdata\\local\\packages\\pythonsoftwarefoundation.python.3.10_qbz5n2kfra8p0\\localcache\\local-packages\\python310\\site-packages (from python-terrier) (2.0.2)\n",
            "Requirement already satisfied: pandas in c:\\users\\alime\\appdata\\local\\packages\\pythonsoftwarefoundation.python.3.10_qbz5n2kfra8p0\\localcache\\local-packages\\python310\\site-packages (from python-terrier) (2.2.3)\n",
            "Requirement already satisfied: more-itertools in c:\\users\\alime\\appdata\\local\\packages\\pythonsoftwarefoundation.python.3.10_qbz5n2kfra8p0\\localcache\\local-packages\\python310\\site-packages (from python-terrier) (10.7.0)\n",
            "Requirement already satisfied: tqdm in c:\\users\\alime\\appdata\\local\\packages\\pythonsoftwarefoundation.python.3.10_qbz5n2kfra8p0\\localcache\\local-packages\\python310\\site-packages (from python-terrier) (4.67.1)\n",
            "Requirement already satisfied: requests in c:\\users\\alime\\appdata\\local\\packages\\pythonsoftwarefoundation.python.3.10_qbz5n2kfra8p0\\localcache\\local-packages\\python310\\site-packages (from python-terrier) (2.32.3)\n",
            "Requirement already satisfied: ir-datasets>=0.3.2 in c:\\users\\alime\\appdata\\local\\packages\\pythonsoftwarefoundation.python.3.10_qbz5n2kfra8p0\\localcache\\local-packages\\python310\\site-packages (from python-terrier) (0.5.10)\n",
            "Requirement already satisfied: wget in c:\\users\\alime\\appdata\\local\\packages\\pythonsoftwarefoundation.python.3.10_qbz5n2kfra8p0\\localcache\\local-packages\\python310\\site-packages (from python-terrier) (3.2)\n",
            "Requirement already satisfied: pyjnius>=1.4.2 in c:\\users\\alime\\appdata\\local\\packages\\pythonsoftwarefoundation.python.3.10_qbz5n2kfra8p0\\localcache\\local-packages\\python310\\site-packages (from python-terrier) (1.6.1)\n",
            "Requirement already satisfied: deprecated in c:\\users\\alime\\appdata\\local\\packages\\pythonsoftwarefoundation.python.3.10_qbz5n2kfra8p0\\localcache\\local-packages\\python310\\site-packages (from python-terrier) (1.2.18)\n",
            "Requirement already satisfied: scipy in c:\\users\\alime\\appdata\\local\\packages\\pythonsoftwarefoundation.python.3.10_qbz5n2kfra8p0\\localcache\\local-packages\\python310\\site-packages (from python-terrier) (1.14.1)\n",
            "Requirement already satisfied: ir-measures>=0.3.1 in c:\\users\\alime\\appdata\\local\\packages\\pythonsoftwarefoundation.python.3.10_qbz5n2kfra8p0\\localcache\\local-packages\\python310\\site-packages (from python-terrier) (0.3.7)\n",
            "Requirement already satisfied: pytrec-eval-terrier>=0.5.3 in c:\\users\\alime\\appdata\\local\\packages\\pythonsoftwarefoundation.python.3.10_qbz5n2kfra8p0\\localcache\\local-packages\\python310\\site-packages (from python-terrier) (0.5.7)\n",
            "Requirement already satisfied: jinja2 in c:\\users\\alime\\appdata\\local\\packages\\pythonsoftwarefoundation.python.3.10_qbz5n2kfra8p0\\localcache\\local-packages\\python310\\site-packages (from python-terrier) (3.1.4)\n",
            "Requirement already satisfied: statsmodels in c:\\users\\alime\\appdata\\local\\packages\\pythonsoftwarefoundation.python.3.10_qbz5n2kfra8p0\\localcache\\local-packages\\python310\\site-packages (from python-terrier) (0.14.4)\n",
            "Requirement already satisfied: dill in c:\\users\\alime\\appdata\\local\\packages\\pythonsoftwarefoundation.python.3.10_qbz5n2kfra8p0\\localcache\\local-packages\\python310\\site-packages (from python-terrier) (0.4.0)\n",
            "Requirement already satisfied: joblib in c:\\users\\alime\\appdata\\local\\packages\\pythonsoftwarefoundation.python.3.10_qbz5n2kfra8p0\\localcache\\local-packages\\python310\\site-packages (from python-terrier) (1.4.2)\n",
            "Requirement already satisfied: chest in c:\\users\\alime\\appdata\\local\\packages\\pythonsoftwarefoundation.python.3.10_qbz5n2kfra8p0\\localcache\\local-packages\\python310\\site-packages (from python-terrier) (0.2.3)\n",
            "Requirement already satisfied: lz4 in c:\\users\\alime\\appdata\\local\\packages\\pythonsoftwarefoundation.python.3.10_qbz5n2kfra8p0\\localcache\\local-packages\\python310\\site-packages (from python-terrier) (4.4.4)\n",
            "Requirement already satisfied: beautifulsoup4>=4.4.1 in c:\\users\\alime\\appdata\\local\\packages\\pythonsoftwarefoundation.python.3.10_qbz5n2kfra8p0\\localcache\\local-packages\\python310\\site-packages (from ir-datasets>=0.3.2->python-terrier) (4.12.3)\n",
            "Requirement already satisfied: inscriptis>=2.2.0 in c:\\users\\alime\\appdata\\local\\packages\\pythonsoftwarefoundation.python.3.10_qbz5n2kfra8p0\\localcache\\local-packages\\python310\\site-packages (from ir-datasets>=0.3.2->python-terrier) (2.6.0)\n",
            "Requirement already satisfied: lxml>=4.5.2 in c:\\users\\alime\\appdata\\local\\packages\\pythonsoftwarefoundation.python.3.10_qbz5n2kfra8p0\\localcache\\local-packages\\python310\\site-packages (from ir-datasets>=0.3.2->python-terrier) (5.3.0)\n",
            "Requirement already satisfied: pyyaml>=5.3.1 in c:\\users\\alime\\appdata\\local\\packages\\pythonsoftwarefoundation.python.3.10_qbz5n2kfra8p0\\localcache\\local-packages\\python310\\site-packages (from ir-datasets>=0.3.2->python-terrier) (6.0.2)\n",
            "Requirement already satisfied: trec-car-tools>=2.5.4 in c:\\users\\alime\\appdata\\local\\packages\\pythonsoftwarefoundation.python.3.10_qbz5n2kfra8p0\\localcache\\local-packages\\python310\\site-packages (from ir-datasets>=0.3.2->python-terrier) (2.6)\n",
            "Requirement already satisfied: warc3-wet>=0.2.3 in c:\\users\\alime\\appdata\\local\\packages\\pythonsoftwarefoundation.python.3.10_qbz5n2kfra8p0\\localcache\\local-packages\\python310\\site-packages (from ir-datasets>=0.3.2->python-terrier) (0.2.5)\n",
            "Requirement already satisfied: warc3-wet-clueweb09>=0.2.5 in c:\\users\\alime\\appdata\\local\\packages\\pythonsoftwarefoundation.python.3.10_qbz5n2kfra8p0\\localcache\\local-packages\\python310\\site-packages (from ir-datasets>=0.3.2->python-terrier) (0.2.5)\n",
            "Requirement already satisfied: zlib-state>=0.1.3 in c:\\users\\alime\\appdata\\local\\packages\\pythonsoftwarefoundation.python.3.10_qbz5n2kfra8p0\\localcache\\local-packages\\python310\\site-packages (from ir-datasets>=0.3.2->python-terrier) (0.1.9)\n",
            "Requirement already satisfied: ijson>=3.1.3 in c:\\users\\alime\\appdata\\local\\packages\\pythonsoftwarefoundation.python.3.10_qbz5n2kfra8p0\\localcache\\local-packages\\python310\\site-packages (from ir-datasets>=0.3.2->python-terrier) (3.3.0)\n",
            "Requirement already satisfied: unlzw3>=0.2.1 in c:\\users\\alime\\appdata\\local\\packages\\pythonsoftwarefoundation.python.3.10_qbz5n2kfra8p0\\localcache\\local-packages\\python310\\site-packages (from ir-datasets>=0.3.2->python-terrier) (0.2.3)\n",
            "Requirement already satisfied: pyarrow>=16.1.0 in c:\\users\\alime\\appdata\\local\\packages\\pythonsoftwarefoundation.python.3.10_qbz5n2kfra8p0\\localcache\\local-packages\\python310\\site-packages (from ir-datasets>=0.3.2->python-terrier) (18.1.0)\n",
            "Requirement already satisfied: charset-normalizer<4,>=2 in c:\\users\\alime\\appdata\\local\\packages\\pythonsoftwarefoundation.python.3.10_qbz5n2kfra8p0\\localcache\\local-packages\\python310\\site-packages (from requests->python-terrier) (3.4.0)\n",
            "Requirement already satisfied: idna<4,>=2.5 in c:\\users\\alime\\appdata\\local\\packages\\pythonsoftwarefoundation.python.3.10_qbz5n2kfra8p0\\localcache\\local-packages\\python310\\site-packages (from requests->python-terrier) (3.10)\n",
            "Requirement already satisfied: urllib3<3,>=1.21.1 in c:\\users\\alime\\appdata\\local\\packages\\pythonsoftwarefoundation.python.3.10_qbz5n2kfra8p0\\localcache\\local-packages\\python310\\site-packages (from requests->python-terrier) (2.2.3)\n",
            "Requirement already satisfied: certifi>=2017.4.17 in c:\\users\\alime\\appdata\\local\\packages\\pythonsoftwarefoundation.python.3.10_qbz5n2kfra8p0\\localcache\\local-packages\\python310\\site-packages (from requests->python-terrier) (2024.8.30)\n",
            "Requirement already satisfied: colorama in c:\\users\\alime\\appdata\\local\\packages\\pythonsoftwarefoundation.python.3.10_qbz5n2kfra8p0\\localcache\\local-packages\\python310\\site-packages (from tqdm->python-terrier) (0.4.6)\n",
            "Requirement already satisfied: heapdict in c:\\users\\alime\\appdata\\local\\packages\\pythonsoftwarefoundation.python.3.10_qbz5n2kfra8p0\\localcache\\local-packages\\python310\\site-packages (from chest->python-terrier) (1.0.1)\n",
            "Requirement already satisfied: wrapt<2,>=1.10 in c:\\users\\alime\\appdata\\local\\packages\\pythonsoftwarefoundation.python.3.10_qbz5n2kfra8p0\\localcache\\local-packages\\python310\\site-packages (from deprecated->python-terrier) (1.17.0)\n",
            "Requirement already satisfied: MarkupSafe>=2.0 in c:\\users\\alime\\appdata\\local\\packages\\pythonsoftwarefoundation.python.3.10_qbz5n2kfra8p0\\localcache\\local-packages\\python310\\site-packages (from jinja2->python-terrier) (3.0.2)\n",
            "Requirement already satisfied: python-dateutil>=2.8.2 in c:\\users\\alime\\appdata\\local\\packages\\pythonsoftwarefoundation.python.3.10_qbz5n2kfra8p0\\localcache\\local-packages\\python310\\site-packages (from pandas->python-terrier) (2.8.2)\n",
            "Requirement already satisfied: pytz>=2020.1 in c:\\users\\alime\\appdata\\local\\packages\\pythonsoftwarefoundation.python.3.10_qbz5n2kfra8p0\\localcache\\local-packages\\python310\\site-packages (from pandas->python-terrier) (2024.2)\n",
            "Requirement already satisfied: tzdata>=2022.7 in c:\\users\\alime\\appdata\\local\\packages\\pythonsoftwarefoundation.python.3.10_qbz5n2kfra8p0\\localcache\\local-packages\\python310\\site-packages (from pandas->python-terrier) (2024.2)\n",
            "Requirement already satisfied: patsy>=0.5.6 in c:\\users\\alime\\appdata\\local\\packages\\pythonsoftwarefoundation.python.3.10_qbz5n2kfra8p0\\localcache\\local-packages\\python310\\site-packages (from statsmodels->python-terrier) (1.0.1)\n",
            "Requirement already satisfied: packaging>=21.3 in c:\\users\\alime\\appdata\\local\\packages\\pythonsoftwarefoundation.python.3.10_qbz5n2kfra8p0\\localcache\\local-packages\\python310\\site-packages (from statsmodels->python-terrier) (23.1)\n",
            "Requirement already satisfied: soupsieve>1.2 in c:\\users\\alime\\appdata\\local\\packages\\pythonsoftwarefoundation.python.3.10_qbz5n2kfra8p0\\localcache\\local-packages\\python310\\site-packages (from beautifulsoup4>=4.4.1->ir-datasets>=0.3.2->python-terrier) (2.6)\n",
            "Requirement already satisfied: six>=1.5 in c:\\users\\alime\\appdata\\local\\packages\\pythonsoftwarefoundation.python.3.10_qbz5n2kfra8p0\\localcache\\local-packages\\python310\\site-packages (from python-dateutil>=2.8.2->pandas->python-terrier) (1.16.0)\n",
            "Requirement already satisfied: cbor>=1.0.0 in c:\\users\\alime\\appdata\\local\\packages\\pythonsoftwarefoundation.python.3.10_qbz5n2kfra8p0\\localcache\\local-packages\\python310\\site-packages (from trec-car-tools>=2.5.4->ir-datasets>=0.3.2->python-terrier) (1.0.0)\n"
          ]
        },
        {
          "name": "stderr",
          "output_type": "stream",
          "text": [
            "WARNING: Ignoring invalid distribution - (c:\\users\\alime\\appdata\\local\\packages\\pythonsoftwarefoundation.python.3.10_qbz5n2kfra8p0\\localcache\\local-packages\\python310\\site-packages)\n",
            "WARNING: Ignoring invalid distribution -p (c:\\users\\alime\\appdata\\local\\packages\\pythonsoftwarefoundation.python.3.10_qbz5n2kfra8p0\\localcache\\local-packages\\python310\\site-packages)\n",
            "WARNING: Ignoring invalid distribution -ip (c:\\users\\alime\\appdata\\local\\packages\\pythonsoftwarefoundation.python.3.10_qbz5n2kfra8p0\\localcache\\local-packages\\python310\\site-packages)\n",
            "WARNING: Ignoring invalid distribution -p (c:\\users\\alime\\appdata\\local\\packages\\pythonsoftwarefoundation.python.3.10_qbz5n2kfra8p0\\localcache\\local-packages\\python310\\site-packages)\n",
            "WARNING: Ignoring invalid distribution - (c:\\users\\alime\\appdata\\local\\packages\\pythonsoftwarefoundation.python.3.10_qbz5n2kfra8p0\\localcache\\local-packages\\python310\\site-packages)\n",
            "WARNING: Ignoring invalid distribution -p (c:\\users\\alime\\appdata\\local\\packages\\pythonsoftwarefoundation.python.3.10_qbz5n2kfra8p0\\localcache\\local-packages\\python310\\site-packages)\n",
            "WARNING: Ignoring invalid distribution -ip (c:\\users\\alime\\appdata\\local\\packages\\pythonsoftwarefoundation.python.3.10_qbz5n2kfra8p0\\localcache\\local-packages\\python310\\site-packages)\n",
            "WARNING: Ignoring invalid distribution -p (c:\\users\\alime\\appdata\\local\\packages\\pythonsoftwarefoundation.python.3.10_qbz5n2kfra8p0\\localcache\\local-packages\\python310\\site-packages)\n",
            "WARNING: Ignoring invalid distribution - (c:\\users\\alime\\appdata\\local\\packages\\pythonsoftwarefoundation.python.3.10_qbz5n2kfra8p0\\localcache\\local-packages\\python310\\site-packages)\n",
            "WARNING: Ignoring invalid distribution -p (c:\\users\\alime\\appdata\\local\\packages\\pythonsoftwarefoundation.python.3.10_qbz5n2kfra8p0\\localcache\\local-packages\\python310\\site-packages)\n",
            "WARNING: Ignoring invalid distribution -ip (c:\\users\\alime\\appdata\\local\\packages\\pythonsoftwarefoundation.python.3.10_qbz5n2kfra8p0\\localcache\\local-packages\\python310\\site-packages)\n",
            "WARNING: Ignoring invalid distribution -p (c:\\users\\alime\\appdata\\local\\packages\\pythonsoftwarefoundation.python.3.10_qbz5n2kfra8p0\\localcache\\local-packages\\python310\\site-packages)\n",
            "\n",
            "[notice] A new release of pip is available: 24.3.1 -> 25.0.1\n",
            "[notice] To update, run: C:\\Users\\Alime\\AppData\\Local\\Microsoft\\WindowsApps\\PythonSoftwareFoundation.Python.3.10_qbz5n2kfra8p0\\python.exe -m pip install --upgrade pip\n"
          ]
        }
      ],
      "source": [
        "%pip install python-terrier"
      ]
    },
    {
      "cell_type": "code",
      "execution_count": null,
      "id": "bab185f1",
      "metadata": {
        "id": "bab185f1"
      },
      "outputs": [],
      "source": [
        "import pandas as pd\n",
        "import pyterrier as pt\n",
        "from pyterrier.measures import *\n",
        "import os\n",
        "import re\n",
        "import matplotlib.pyplot as plt\n",
        "import seaborn as sns"
      ]
    },
    {
      "cell_type": "code",
      "execution_count": null,
      "id": "cddd6d29",
      "metadata": {
        "collapsed": true,
        "id": "cddd6d29",
        "outputId": "817cf76c-ad12-47d6-be9f-143257cc6d95"
      },
      "outputs": [
        {
          "name": "stderr",
          "output_type": "stream",
          "text": [
            "C:\\Users\\Alime\\AppData\\Local\\Temp\\ipykernel_8656\\3289743011.py:2: DeprecationWarning: Call to deprecated function (or staticmethod) started. (use pt.java.started() instead) -- Deprecated since version 0.11.0.\n",
            "  if not pt.started():\n",
            "C:\\Users\\Alime\\AppData\\Local\\Temp\\ipykernel_8656\\3289743011.py:15: DeprecationWarning: Call to deprecated class DFIndexer. (use pt.terrier.IterDictIndexer().index(dataframe.to_dict(orient='records')) instead) -- Deprecated since version 0.11.0.\n",
            "  indexer = pt.DFIndexer(index_path, overwrite=True)\n"
          ]
        },
        {
          "name": "stdout",
          "output_type": "stream",
          "text": [
            "16:25:50.520 [main] WARN org.terrier.structures.indexing.Indexer -- Adding an empty document to the index (289) - further warnings are suppressed\n",
            "16:26:12.231 [main] WARN org.terrier.structures.indexing.Indexer -- Indexed 207 empty documents\n",
            "16:26:12.233 [main] ERROR org.terrier.structures.indexing.Indexer -- Could not rename index\n",
            "java.io.IOException: Rename of index structure file 'c:\\Users\\Alime\\OneDrive\\Desktop\\Indexing_Search\\reddit_index/data_1.direct.bf' (exists) to 'c:\\Users\\Alime\\OneDrive\\Desktop\\Indexing_Search\\reddit_index/data.direct.bf' (exists) failed - likely that source file is still open. Possible indexing bug?\n",
            "\tat org.terrier.structures.IndexUtil.renameIndex(IndexUtil.java:379)\n",
            "\tat org.terrier.structures.indexing.Indexer.index(Indexer.java:388)\n",
            "\tat org.terrier.structures.indexing.Indexer.index(Indexer.java:355)\n"
          ]
        }
      ],
      "source": [
        "# Initialize PyTerrier\n",
        "if not pt.started():\n",
        "    pt.init()\n",
        "\n",
        "# Load data\n",
        "df = pd.read_csv(\"Final.csv\")\n",
        "df['docno'] = df.index.astype(str)\n",
        "docs = df[['docno', 'text']]\n",
        "\n",
        "# Ensure index path is valid and outside of restricted folders\n",
        "index_path = os.path.abspath(\"reddit_index\")\n",
        "os.makedirs(index_path, exist_ok=True)\n",
        "\n",
        "# Indexing\n",
        "indexer = pt.DFIndexer(index_path, overwrite=True)\n",
        "index_ref = indexer.index(docs[\"text\"], docs[\"docno\"])"
      ]
    },
    {
      "cell_type": "code",
      "execution_count": null,
      "id": "84866d68",
      "metadata": {
        "id": "84866d68"
      },
      "outputs": [],
      "source": [
        "# Load the index\n",
        "index = pt.IndexFactory.of(index_ref)\n",
        "\n"
      ]
    },
    {
      "cell_type": "code",
      "execution_count": null,
      "id": "f6875c8d",
      "metadata": {
        "id": "f6875c8d",
        "outputId": "b993c02a-6ae8-4403-ad10-2ff863647483"
      },
      "outputs": [
        {
          "name": "stderr",
          "output_type": "stream",
          "text": [
            "C:\\Users\\Alime\\AppData\\Local\\Temp\\ipykernel_8656\\3979611552.py:3: DeprecationWarning: Call to deprecated class BatchRetrieve. (use pt.terrier.Retriever() instead) -- Deprecated since version 0.11.0.\n",
            "  \"BM25\": pt.BatchRetrieve(index, wmodel=\"BM25\"),\n",
            "C:\\Users\\Alime\\AppData\\Local\\Temp\\ipykernel_8656\\3979611552.py:4: DeprecationWarning: Call to deprecated class BatchRetrieve. (use pt.terrier.Retriever() instead) -- Deprecated since version 0.11.0.\n",
            "  \"TF-IDF\": pt.BatchRetrieve(index, wmodel=\"TF_IDF\"),\n",
            "C:\\Users\\Alime\\AppData\\Local\\Temp\\ipykernel_8656\\3979611552.py:5: DeprecationWarning: Call to deprecated class BatchRetrieve. (use pt.terrier.Retriever() instead) -- Deprecated since version 0.11.0.\n",
            "  \"PL2\": pt.BatchRetrieve(index, wmodel=\"PL2\")\n"
          ]
        }
      ],
      "source": [
        "# Define retrieval models\n",
        "retrievers = {\n",
        "    \"BM25\": pt.BatchRetrieve(index, wmodel=\"BM25\"),\n",
        "    \"TF-IDF\": pt.BatchRetrieve(index, wmodel=\"TF_IDF\"),\n",
        "    \"PL2\": pt.BatchRetrieve(index, wmodel=\"PL2\")\n",
        "}\n"
      ]
    },
    {
      "cell_type": "code",
      "execution_count": null,
      "id": "490f829c",
      "metadata": {
        "id": "490f829c",
        "outputId": "7d631ad2-d6ca-4cdd-d600-685eb1c03050"
      },
      "outputs": [
        {
          "name": "stdout",
          "output_type": "stream",
          "text": [
            "🔍 Keyword Search Results by Model:\n",
            " model  rank     score docno                                                                                                 text\n",
            "  BM25     1 17.645646 21209                                                                  charity barely talked to him before\n",
            "  BM25     2 17.645646 22063                                              why should it be discounted she’s not running a charity\n",
            "  BM25     3 17.645646 40576                                                     so not different from donations to a charity org\n",
            "  BM25     4 17.009311  4766                                                                    great charity work you doing here\n",
            "  BM25     5 14.865064  7941 and remember this is from less than half his original shareshe has donated more than of his berks...\n",
            "  BM25     6 13.581015  1384 in the us charitable donations must be only to registered charitie such an organization will have...\n",
            "  BM25     7 12.841512  7463 the annual salary of the ceo of the red cross is per year this is why i do not do charities if i ...\n",
            "  BM25     8 11.232377 25948 youre not likely to get any sort of loan right now banks will rightfully assume you cant pay so t...\n",
            "  BM25     9 11.038356  4904 what partial medicaid program does she have and what exactly is her income level she should be ge...\n",
            "  BM25    10  9.484600  4538 not sure where you are at for school but sometimes if your university has a great medical school ...\n",
            "  BM25    11  8.900778 25063 im not giving to charity for the tax benefit i give to charity because its what i want to do with...\n",
            "  BM25    12  7.896691  2055 extended market index doesnt have tesla but it does have trump media technology group corp lolyes...\n",
            "  BM25    13  4.221514  5211 all these stories you’ve heard of people your age trying to talk their parents into assisted livi...\n",
            "  BM25    14  2.338125 14714 this is all assuming youre donating eventually its obviously not objectively better for your own ...\n",
            "   PL2     1  9.006784 21209                                                                  charity barely talked to him before\n",
            "   PL2     2  9.006784 22063                                              why should it be discounted she’s not running a charity\n",
            "   PL2     3  9.006784 40576                                                     so not different from donations to a charity org\n",
            "   PL2     4  8.575751  4766                                                                    great charity work you doing here\n",
            "   PL2     5  7.332395  7941 and remember this is from less than half his original shareshe has donated more than of his berks...\n",
            "   PL2     6  6.662396  1384 in the us charitable donations must be only to registered charitie such an organization will have...\n",
            "   PL2     7  6.288617  7463 the annual salary of the ceo of the red cross is per year this is why i do not do charities if i ...\n",
            "   PL2     8  5.584069 25948 youre not likely to get any sort of loan right now banks will rightfully assume you cant pay so t...\n",
            "   PL2     9  5.395112  4904 what partial medicaid program does she have and what exactly is her income level she should be ge...\n",
            "   PL2    10  4.629523  4538 not sure where you are at for school but sometimes if your university has a great medical school ...\n",
            "   PL2    11  4.416505 25063 im not giving to charity for the tax benefit i give to charity because its what i want to do with...\n",
            "   PL2    12  3.836293  2055 extended market index doesnt have tesla but it does have trump media technology group corp lolyes...\n",
            "   PL2    13  1.867120  5211 all these stories you’ve heard of people your age trying to talk their parents into assisted livi...\n",
            "   PL2    14  0.669870 14714 this is all assuming youre donating eventually its obviously not objectively better for your own ...\n",
            "TF-IDF     1  9.667038 21209                                                                  charity barely talked to him before\n",
            "TF-IDF     2  9.667038 22063                                              why should it be discounted she’s not running a charity\n",
            "TF-IDF     3  9.667038 40576                                                     so not different from donations to a charity org\n",
            "TF-IDF     4  9.318426  4766                                                                    great charity work you doing here\n",
            "TF-IDF     5  8.143716  7941 and remember this is from less than half his original shareshe has donated more than of his berks...\n",
            "TF-IDF     6  7.440259  1384 in the us charitable donations must be only to registered charitie such an organization will have...\n",
            "TF-IDF     7  7.035128  7463 the annual salary of the ceo of the red cross is per year this is why i do not do charities if i ...\n",
            "TF-IDF     8  6.153575 25948 youre not likely to get any sort of loan right now banks will rightfully assume you cant pay so t...\n",
            "TF-IDF     9  6.047282  4904 what partial medicaid program does she have and what exactly is her income level she should be ge...\n",
            "TF-IDF    10  5.196068  4538 not sure where you are at for school but sometimes if your university has a great medical school ...\n",
            "TF-IDF    11  4.876226 25063 im not giving to charity for the tax benefit i give to charity because its what i want to do with...\n",
            "TF-IDF    12  4.326144  2055 extended market index doesnt have tesla but it does have trump media technology group corp lolyes...\n",
            "TF-IDF    13  2.312726  5211 all these stories you’ve heard of people your age trying to talk their parents into assisted livi...\n",
            "TF-IDF    14  1.280925 14714 this is all assuming youre donating eventually its obviously not objectively better for your own ...\n"
          ]
        }
      ],
      "source": [
        "# Input query\n",
        "query = \"Charity\"\n",
        "\n",
        "# Collect results from all models\n",
        "all_results = []\n",
        "\n",
        "for model_name, retriever in retrievers.items():\n",
        "    results = retriever.search(query)\n",
        "    results[\"model\"] = model_name\n",
        "    all_results.append(results[[\"docno\", \"score\", \"model\"]])\n",
        "\n",
        "# Combine results\n",
        "combined = pd.concat(all_results).reset_index(drop=True)\n",
        "\n",
        "# Merge with original text\n",
        "combined[\"docno\"] = combined[\"docno\"]\n",
        "combined = combined.merge(df[[\"docno\", \"text\"]], on=\"docno\")\n",
        "\n",
        "# Rank within each model\n",
        "combined[\"rank\"] = combined.groupby(\"model\")[\"score\"].rank(method=\"first\", ascending=False).astype(int)\n",
        "\n",
        "# Sort results for display\n",
        "combined.sort_values(by=[\"model\", \"rank\"], inplace=True)\n",
        "\n",
        "# Select columns to display\n",
        "display_columns = [\"model\", \"rank\", \"score\", \"docno\", \"text\"]\n",
        "\n",
        "# Print results nicely\n",
        "print(\"🔍 Keyword Search Results by Model:\")\n",
        "print(combined[display_columns].to_string(index=False, max_colwidth=100))"
      ]
    },
    {
      "cell_type": "markdown",
      "id": "63619ee2",
      "metadata": {
        "id": "63619ee2"
      },
      "source": [
        "# Evaluation"
      ]
    },
    {
      "cell_type": "markdown",
      "id": "6f592fe6",
      "metadata": {
        "id": "6f592fe6"
      },
      "source": [
        "### Let's Make some Relevance Labels For judgment"
      ]
    },
    {
      "cell_type": "code",
      "execution_count": null,
      "id": "140e06c8",
      "metadata": {
        "id": "140e06c8",
        "outputId": "a4b37674-d74d-43fd-b4ba-66a1320a95dc"
      },
      "outputs": [
        {
          "name": "stdout",
          "output_type": "stream",
          "text": [
            "Saved to queries.csv\n",
            "  qid         query docno  label\n",
            "0   1  stock market     4      1\n",
            "1   1  stock market    10      1\n",
            "2   1  stock market    15      1\n",
            "3   1  stock market    16      1\n",
            "4   1  stock market    22      1\n",
            "5   1  stock market    27      1\n",
            "6   1  stock market    42      1\n",
            "7   1  stock market    60      1\n",
            "8   1  stock market    64      1\n",
            "9   1  stock market    65      1\n"
          ]
        }
      ],
      "source": [
        "# Define sample queries (you can extend or load from a list)\n",
        "queries_dict = {\n",
        "    \"stock market\": [\"stock\", \"stocks\", \"market\", \"equity\", \"share price\", \"index\", \"nasdaq\", \"s&p\"],\n",
        "    \"cryptocurrency\": [\"crypto\", \"bitcoin\", \"ethereum\", \"blockchain\", \"wallet\", \"token\", \"altcoin\"],\n",
        "    \"inflation\": [\"inflation\", \"cpi\", \"consumer price\", \"cost of living\", \"price hike\"],\n",
        "    \"interest rates\": [\"interest rate\", \"fed\", \"central bank\", \"hike\", \"cut\", \"monetary policy\"],\n",
        "    \"recession\": [\"recession\", \"economic slowdown\", \"gdp\", \"unemployment\", \"layoff\"],\n",
        "    \"personal finance\": [\"savings\", \"budget\", \"debt\", \"mortgage\", \"credit card\", \"loan\"],\n",
        "    \"banking\": [\"bank\", \"account\", \"transfer\", \"atm\", \"fees\", \"overdraft\"],\n",
        "    \"investment\": [\"invest\", \"portfolio\", \"fund\", \"mutual fund\", \"etf\", \"asset allocation\"],\n",
        "    \"finance news\": [\"bloomberg\", \"financial times\", \"cnbc\", \"earnings report\", \"forecast\"],\n",
        "    \"job market\": [\"job\", \"employment\", \"salary\", \"hiring\", \"career\", \"resume\"]\n",
        "}\n",
        "\n",
        "# Convert to list of query rows\n",
        "query_rows = []\n",
        "for i, (topic, terms) in enumerate(queries_dict.items(), start=1):\n",
        "    qid = str(i)\n",
        "    query = \" \".join(terms)  # Join the terms into a single string\n",
        "    query_rows.append({\"qid\": qid, \"query\": query})\n",
        "\n",
        "# Create DataFrame\n",
        "queries_df = pd.DataFrame(query_rows)\n",
        "\n",
        "# Save to CSV\n",
        "queries_df.to_csv(\"queries.csv\", index=False)\n",
        "print(\"Saved to queries.csv\")\n",
        "\n",
        "# Build qrels from actual matches\n",
        "qrels = []\n",
        "\n",
        "for qid, (query, keywords) in enumerate(queries_dict.items(), start=1):\n",
        "    for idx, row in df.iterrows():\n",
        "        text = str(row[\"text\"]).lower()\n",
        "        if any(re.search(rf\"\\b{kw}\\b\", text) for kw in keywords):\n",
        "            qrels.append({\n",
        "                \"qid\": str(qid),\n",
        "                \"query\": query,\n",
        "                \"docno\": row[\"docno\"],\n",
        "                \"label\": 1\n",
        "            })\n",
        "\n",
        "# Convert to DataFrame\n",
        "qrels_df = pd.DataFrame(qrels)\n",
        "\n",
        "\n",
        "# For each query, randomly pick documents without keyword matches\n",
        "import random\n",
        "relevant_docnos = set(qrels_df[\"docno\"])\n",
        "all_docnos = set(df[\"docno\"])\n",
        "non_relevant_candidates = list(all_docnos - relevant_docnos)\n",
        "\n",
        "for qid in range(1, len(queries_dict)+1):\n",
        "    sampled = random.sample(non_relevant_candidates, min(10, len(non_relevant_candidates)))\n",
        "    for docno in sampled:\n",
        "        qrels_df = pd.concat([\n",
        "            qrels_df,\n",
        "            pd.DataFrame([{\n",
        "                \"qid\": str(qid),\n",
        "                \"query\": list(queries_dict.keys())[qid-1],\n",
        "                \"docno\": docno,\n",
        "                \"label\": 0\n",
        "            }])\n",
        "        ])\n",
        "\n",
        "# Save to CSV\n",
        "qrels_df.to_csv(\"realistic_qrels.csv\", index=False)\n",
        "\n",
        "# Preview\n",
        "print(qrels_df.head(10))"
      ]
    },
    {
      "cell_type": "markdown",
      "id": "07b36034",
      "metadata": {
        "id": "07b36034"
      },
      "source": [
        "### Now, We Can Evaluate"
      ]
    },
    {
      "cell_type": "code",
      "execution_count": null,
      "id": "ddf28ace",
      "metadata": {
        "collapsed": true,
        "id": "ddf28ace",
        "outputId": "970a0010-434b-4d8a-ce84-309f9e7c561c"
      },
      "outputs": [
        {
          "name": "stderr",
          "output_type": "stream",
          "text": [
            "C:\\Users\\Alime\\AppData\\Local\\Temp\\ipykernel_8656\\785525901.py:9: DeprecationWarning: Call to deprecated class BatchRetrieve. (use pt.terrier.Retriever() instead) -- Deprecated since version 0.11.0.\n",
            "  tfidf = pt.BatchRetrieve(index, wmodel=\"TF_IDF\", verbose=True)\n",
            "C:\\Users\\Alime\\AppData\\Local\\Temp\\ipykernel_8656\\785525901.py:10: DeprecationWarning: Call to deprecated class BatchRetrieve. (use pt.terrier.Retriever() instead) -- Deprecated since version 0.11.0.\n",
            "  bm25 = pt.BatchRetrieve(index, wmodel=\"BM25\", verbose=True)\n"
          ]
        }
      ],
      "source": [
        "queries = pd.read_csv(\"queries.csv\")\n",
        "qrels = pd.read_csv(\"realistic_qrels.csv\", sep=\",\")  # or use sep=\"\\t\" if needed\n",
        "\n",
        "# Create the retrieval models\n",
        "tfidf = pt.BatchRetrieve(index, wmodel=\"TF_IDF\", verbose=True)\n",
        "bm25 = pt.BatchRetrieve(index, wmodel=\"BM25\", verbose=True)\n",
        "# Convert the 'qid' column to the same type (int or str) in both DataFrames\n",
        "\n",
        "qrels['qid'] = qrels['qid'].astype(str)\n",
        "queries['qid'] = queries['qid'].astype(str)\n",
        "qrels['docno'] = qrels['docno'].astype(str)"
      ]
    },
    {
      "cell_type": "code",
      "execution_count": null,
      "id": "5e01a89d",
      "metadata": {
        "id": "5e01a89d",
        "outputId": "97f49569-6dbe-41aa-bd91-d9ab81685748"
      },
      "outputs": [
        {
          "name": "stdout",
          "output_type": "stream",
          "text": [
            "TF-IDF Evaluation:\n"
          ]
        },
        {
          "name": "stderr",
          "output_type": "stream",
          "text": [
            "TerrierRetr(TF_IDF): 100%|██████████| 10/10 [00:00<00:00, 50.93q/s]\n"
          ]
        },
        {
          "name": "stdout",
          "output_type": "stream",
          "text": [
            "     name       map      ndcg  recip_rank\n",
            "0  TF-IDF  0.381766  0.532131         1.0\n",
            "\n",
            "BM25 Evaluation:\n"
          ]
        },
        {
          "name": "stderr",
          "output_type": "stream",
          "text": [
            "TerrierRetr(BM25): 100%|██████████| 10/10 [00:00<00:00, 50.34q/s]"
          ]
        },
        {
          "name": "stdout",
          "output_type": "stream",
          "text": [
            "   name       map      ndcg  recip_rank\n",
            "0  BM25  0.384076  0.534821         1.0\n"
          ]
        },
        {
          "name": "stderr",
          "output_type": "stream",
          "text": [
            "\n"
          ]
        }
      ],
      "source": [
        "# Evaluate\n",
        "\n",
        "print(\"TF-IDF Evaluation:\")\n",
        "tfidf_eval = pt.Experiment(\n",
        "    [tfidf],\n",
        "    queries,\n",
        "    qrels,\n",
        "    eval_metrics=[\"map\", \"ndcg\", \"recip_rank\"],\n",
        "    names=[\"TF-IDF\"]\n",
        ")\n",
        "print(tfidf_eval)\n",
        "\n",
        "print(\"\\nBM25 Evaluation:\")\n",
        "bm25_eval = pt.Experiment(\n",
        "    [bm25],\n",
        "    queries,\n",
        "    qrels,\n",
        "    eval_metrics=[\"map\", \"ndcg\", \"recip_rank\"],\n",
        "    names=[\"BM25\"]\n",
        ")\n",
        "print(bm25_eval)\n"
      ]
    },
    {
      "cell_type": "code",
      "execution_count": null,
      "id": "92ce5f71",
      "metadata": {
        "id": "92ce5f71",
        "outputId": "f85a74ab-093c-4009-f68d-08c6b3c6ea6c"
      },
      "outputs": [
        {
          "data": {
            "image/png": "[encoded data removed]",
            "text/plain": [
              "<Figure size 1000x600 with 1 Axes>"
            ]
          },
          "metadata": {},
          "output_type": "display_data"
        }
      ],
      "source": [
        "comparison_df = pd.concat([tfidf_eval, bm25_eval]).melt(\n",
        "    id_vars='name', var_name='metric', value_name='value'\n",
        ")\n",
        "\n",
        "# Create the bar chart\n",
        "plt.figure(figsize=(10, 6))\n",
        "sns.barplot(x='metric', y='value', hue='name', data=comparison_df)\n",
        "plt.title('Comparison of TF-IDF and BM25 Evaluation Metrics')\n",
        "plt.ylabel('Metric Value')\n",
        "plt.xlabel('Evaluation Metric')\n",
        "plt.legend(title='Model')\n",
        "plt.grid(axis='y', linestyle='--')\n",
        "plt.tight_layout()\n",
        "plt.show()"
      ]
    },
    {
      "cell_type": "markdown",
      "id": "354fa853",
      "metadata": {
        "id": "354fa853"
      },
      "source": [
        "# PIPELINE VS SINGLE"
      ]
    },
    {
      "cell_type": "code",
      "execution_count": null,
      "id": "8fdc2041",
      "metadata": {
        "id": "8fdc2041",
        "outputId": "a07294f7-d5b1-4a94-a5dd-ddaf8ddd1417"
      },
      "outputs": [
        {
          "name": "stderr",
          "output_type": "stream",
          "text": [
            "C:\\Users\\Alime\\AppData\\Local\\Temp\\ipykernel_8656\\3310907208.py:1: DeprecationWarning: Call to deprecated class BatchRetrieve. (use pt.terrier.Retriever() instead) -- Deprecated since version 0.11.0.\n",
            "  tf = pt.BatchRetrieve(index, wmodel=\"Tf\")\n"
          ]
        }
      ],
      "source": [
        "tf = pt.BatchRetrieve(index, wmodel=\"Tf\")"
      ]
    },
    {
      "cell_type": "code",
      "execution_count": null,
      "id": "c6d60ee8",
      "metadata": {
        "id": "c6d60ee8",
        "outputId": "08275766-7ba7-4761-dc78-72fc4e87948d"
      },
      "outputs": [
        {
          "name": "stderr",
          "output_type": "stream",
          "text": [
            "TerrierRetr(TF_IDF): 100%|██████████| 10/10 [00:00<00:00, 50.87q/s]\n",
            "TerrierRetr(BM25): 100%|██████████| 10/10 [00:00<00:00, 44.98q/s]\n",
            "TerrierRetr(BM25): 100%|██████████| 10/10 [00:00<00:00, 46.01q/s]\n",
            "TerrierRetr(TF_IDF): 100%|██████████| 10/10 [00:00<00:00, 45.16q/s]\n",
            "TerrierRetr(TF_IDF): 100%|██████████| 10/10 [00:00<00:00, 46.84q/s]\n",
            "TerrierRetr(BM25): 100%|██████████| 10/10 [00:00<00:00, 49.86q/s]\n",
            "TerrierRetr(TF_IDF): 100%|██████████| 10/10 [00:00<00:00, 47.34q/s]\n",
            "TerrierRetr(BM25): 100%|██████████| 10/10 [00:00<00:00, 54.42q/s]\n"
          ]
        }
      ],
      "source": [
        "\n",
        "evals= pt.Experiment(\n",
        "  [tf,tfidf,bm25, bm25 >> tfidf ,tfidf >> bm25, ((tf % 500) | (tfidf % 500)) >> bm25],\n",
        "  queries,\n",
        "  qrels,\n",
        "  eval_metrics=[\"map\", \"ndcg\"],\n",
        "  names=[\"TF\",\"TF-IDF\",\"BM25\",\"BM25 >> TF-IDF\" ,\"TF-IDF >> BM25\", \"((TF % 10) | (TF-IDF % 10)) >> BM25\"]\n",
        ")\n"
      ]
    },
    {
      "cell_type": "code",
      "execution_count": null,
      "id": "bb2aca7b",
      "metadata": {
        "id": "bb2aca7b",
        "outputId": "e8e4d88d-97bc-431b-dd27-706b1c80bc43"
      },
      "outputs": [
        {
          "data": {
            "image/png": "[encoded data removed]",
            "text/plain": [
              "<Figure size 1000x600 with 1 Axes>"
            ]
          },
          "metadata": {},
          "output_type": "display_data"
        }
      ],
      "source": [
        "comparison_df = pd.concat([evals]).melt(\n",
        "    id_vars='name', var_name='metric', value_name='value'\n",
        ")\n",
        "\n",
        "# Create the bar chart\n",
        "plt.figure(figsize=(10, 6))\n",
        "sns.barplot(x='metric', y='value', hue='name', data=comparison_df)\n",
        "plt.title('Comparison of TF-IDF and BM25 Evaluation Metrics')\n",
        "plt.ylabel('Metric Value')\n",
        "plt.xlabel('Evaluation Metric')\n",
        "plt.legend(title='Model')\n",
        "plt.grid(axis='y', linestyle='--')\n",
        "plt.tight_layout()\n",
        "plt.show()"
      ]
    }
  ],
  "metadata": {
    "kernelspec": {
      "display_name": "Python 3",
      "language": "python",
      "name": "python3"
    },
    "language_info": {
      "codemirror_mode": {
        "name": "ipython",
        "version": 3
      },
      "file_extension": ".py",
      "mimetype": "text/x-python",
      "name": "python",
      "nbconvert_exporter": "python",
      "pygments_lexer": "ipython3",
      "version": "3.10.11"
    },
    "colab": {
      "provenance": [],
      "toc_visible": true
    }
  },
  "nbformat": 4,
  "nbformat_minor": 5
}