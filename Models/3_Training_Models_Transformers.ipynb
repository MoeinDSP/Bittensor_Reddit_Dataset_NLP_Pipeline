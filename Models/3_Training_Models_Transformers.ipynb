{
  "nbformat": 4,
  "nbformat_minor": 0,
  "metadata": {
    "colab": {
      "provenance": [],
      "gpuType": "T4",
      "include_colab_link": true
    },
    "kernelspec": {
      "name": "python3",
      "display_name": "Python 3"
    },
    "language_info": {
      "name": "python"
    },
    "accelerator": "GPU"
  },
  "cells": [
    {
      "cell_type": "markdown",
      "metadata": {
        "id": "view-in-github",
        "colab_type": "text"
      },
      "source": [
        "<a href=\"https://colab.research.google.com/github/MoeinDSP/Bittensor_Reddit_Dataset_NLP_Pipeline/blob/main/Models/3_Training_Models_Transformers.ipynb\" target=\"_parent\"><img src=\"https://colab.research.google.com/assets/colab-badge.svg\" alt=\"Open In Colab\"/></a>"
      ]
    },
    {
      "cell_type": "markdown",
      "source": [
        "**1- Install and Import Libraries**"
      ],
      "metadata": {
        "id": "_oY31RI4S4JM"
      }
    },
    {
      "cell_type": "code",
      "source": [
        "!pip install datasets\n",
        "!pip install evaluate"
      ],
      "metadata": {
        "colab": {
          "base_uri": "https://localhost:8080/"
        },
        "id": "Epd9XlC_BLep",
        "outputId": "b39b415b-4d3e-4410-d31f-7300c11fb25b"
      },
      "execution_count": 1,
      "outputs": [
        {
          "output_type": "stream",
          "name": "stdout",
          "text": [
            "Collecting datasets\n",
            "  Downloading datasets-3.6.0-py3-none-any.whl.metadata (19 kB)\n",
            "Requirement already satisfied: filelock in /usr/local/lib/python3.11/dist-packages (from datasets) (3.18.0)\n",
            "Requirement already satisfied: numpy>=1.17 in /usr/local/lib/python3.11/dist-packages (from datasets) (2.0.2)\n",
            "Requirement already satisfied: pyarrow>=15.0.0 in /usr/local/lib/python3.11/dist-packages (from datasets) (18.1.0)\n",
            "Collecting dill<0.3.9,>=0.3.0 (from datasets)\n",
            "  Downloading dill-0.3.8-py3-none-any.whl.metadata (10 kB)\n",
            "Requirement already satisfied: pandas in /usr/local/lib/python3.11/dist-packages (from datasets) (2.2.2)\n",
            "Requirement already satisfied: requests>=2.32.2 in /usr/local/lib/python3.11/dist-packages (from datasets) (2.32.3)\n",
            "Requirement already satisfied: tqdm>=4.66.3 in /usr/local/lib/python3.11/dist-packages (from datasets) (4.67.1)\n",
            "Collecting xxhash (from datasets)\n",
            "  Downloading xxhash-3.5.0-cp311-cp311-manylinux_2_17_x86_64.manylinux2014_x86_64.whl.metadata (12 kB)\n",
            "Collecting multiprocess<0.70.17 (from datasets)\n",
            "  Downloading multiprocess-0.70.16-py311-none-any.whl.metadata (7.2 kB)\n",
            "Collecting fsspec<=2025.3.0,>=2023.1.0 (from fsspec[http]<=2025.3.0,>=2023.1.0->datasets)\n",
            "  Downloading fsspec-2025.3.0-py3-none-any.whl.metadata (11 kB)\n",
            "Requirement already satisfied: huggingface-hub>=0.24.0 in /usr/local/lib/python3.11/dist-packages (from datasets) (0.30.2)\n",
            "Requirement already satisfied: packaging in /usr/local/lib/python3.11/dist-packages (from datasets) (24.2)\n",
            "Requirement already satisfied: pyyaml>=5.1 in /usr/local/lib/python3.11/dist-packages (from datasets) (6.0.2)\n",
            "Requirement already satisfied: aiohttp!=4.0.0a0,!=4.0.0a1 in /usr/local/lib/python3.11/dist-packages (from fsspec[http]<=2025.3.0,>=2023.1.0->datasets) (3.11.15)\n",
            "Requirement already satisfied: typing-extensions>=3.7.4.3 in /usr/local/lib/python3.11/dist-packages (from huggingface-hub>=0.24.0->datasets) (4.13.2)\n",
            "Requirement already satisfied: charset-normalizer<4,>=2 in /usr/local/lib/python3.11/dist-packages (from requests>=2.32.2->datasets) (3.4.1)\n",
            "Requirement already satisfied: idna<4,>=2.5 in /usr/local/lib/python3.11/dist-packages (from requests>=2.32.2->datasets) (3.10)\n",
            "Requirement already satisfied: urllib3<3,>=1.21.1 in /usr/local/lib/python3.11/dist-packages (from requests>=2.32.2->datasets) (2.4.0)\n",
            "Requirement already satisfied: certifi>=2017.4.17 in /usr/local/lib/python3.11/dist-packages (from requests>=2.32.2->datasets) (2025.4.26)\n",
            "Requirement already satisfied: python-dateutil>=2.8.2 in /usr/local/lib/python3.11/dist-packages (from pandas->datasets) (2.9.0.post0)\n",
            "Requirement already satisfied: pytz>=2020.1 in /usr/local/lib/python3.11/dist-packages (from pandas->datasets) (2025.2)\n",
            "Requirement already satisfied: tzdata>=2022.7 in /usr/local/lib/python3.11/dist-packages (from pandas->datasets) (2025.2)\n",
            "Requirement already satisfied: aiohappyeyeballs>=2.3.0 in /usr/local/lib/python3.11/dist-packages (from aiohttp!=4.0.0a0,!=4.0.0a1->fsspec[http]<=2025.3.0,>=2023.1.0->datasets) (2.6.1)\n",
            "Requirement already satisfied: aiosignal>=1.1.2 in /usr/local/lib/python3.11/dist-packages (from aiohttp!=4.0.0a0,!=4.0.0a1->fsspec[http]<=2025.3.0,>=2023.1.0->datasets) (1.3.2)\n",
            "Requirement already satisfied: attrs>=17.3.0 in /usr/local/lib/python3.11/dist-packages (from aiohttp!=4.0.0a0,!=4.0.0a1->fsspec[http]<=2025.3.0,>=2023.1.0->datasets) (25.3.0)\n",
            "Requirement already satisfied: frozenlist>=1.1.1 in /usr/local/lib/python3.11/dist-packages (from aiohttp!=4.0.0a0,!=4.0.0a1->fsspec[http]<=2025.3.0,>=2023.1.0->datasets) (1.6.0)\n",
            "Requirement already satisfied: multidict<7.0,>=4.5 in /usr/local/lib/python3.11/dist-packages (from aiohttp!=4.0.0a0,!=4.0.0a1->fsspec[http]<=2025.3.0,>=2023.1.0->datasets) (6.4.3)\n",
            "Requirement already satisfied: propcache>=0.2.0 in /usr/local/lib/python3.11/dist-packages (from aiohttp!=4.0.0a0,!=4.0.0a1->fsspec[http]<=2025.3.0,>=2023.1.0->datasets) (0.3.1)\n",
            "Requirement already satisfied: yarl<2.0,>=1.17.0 in /usr/local/lib/python3.11/dist-packages (from aiohttp!=4.0.0a0,!=4.0.0a1->fsspec[http]<=2025.3.0,>=2023.1.0->datasets) (1.20.0)\n",
            "Requirement already satisfied: six>=1.5 in /usr/local/lib/python3.11/dist-packages (from python-dateutil>=2.8.2->pandas->datasets) (1.17.0)\n",
            "Downloading datasets-3.6.0-py3-none-any.whl (491 kB)\n",
            "\u001b[2K   \u001b[90m━━━━━━━━━━━━━━━━━━━━━━━━━━━━━━━━━━━━━━━━\u001b[0m \u001b[32m491.5/491.5 kB\u001b[0m \u001b[31m23.3 MB/s\u001b[0m eta \u001b[36m0:00:00\u001b[0m\n",
            "\u001b[?25hDownloading dill-0.3.8-py3-none-any.whl (116 kB)\n",
            "\u001b[2K   \u001b[90m━━━━━━━━━━━━━━━━━━━━━━━━━━━━━━━━━━━━━━━━\u001b[0m \u001b[32m116.3/116.3 kB\u001b[0m \u001b[31m8.0 MB/s\u001b[0m eta \u001b[36m0:00:00\u001b[0m\n",
            "\u001b[?25hDownloading fsspec-2025.3.0-py3-none-any.whl (193 kB)\n",
            "\u001b[2K   \u001b[90m━━━━━━━━━━━━━━━━━━━━━━━━━━━━━━━━━━━━━━━━\u001b[0m \u001b[32m193.6/193.6 kB\u001b[0m \u001b[31m12.7 MB/s\u001b[0m eta \u001b[36m0:00:00\u001b[0m\n",
            "\u001b[?25hDownloading multiprocess-0.70.16-py311-none-any.whl (143 kB)\n",
            "\u001b[2K   \u001b[90m━━━━━━━━━━━━━━━━━━━━━━━━━━━━━━━━━━━━━━━━\u001b[0m \u001b[32m143.5/143.5 kB\u001b[0m \u001b[31m10.4 MB/s\u001b[0m eta \u001b[36m0:00:00\u001b[0m\n",
            "\u001b[?25hDownloading xxhash-3.5.0-cp311-cp311-manylinux_2_17_x86_64.manylinux2014_x86_64.whl (194 kB)\n",
            "\u001b[2K   \u001b[90m━━━━━━━━━━━━━━━━━━━━━━━━━━━━━━━━━━━━━━━━\u001b[0m \u001b[32m194.8/194.8 kB\u001b[0m \u001b[31m13.8 MB/s\u001b[0m eta \u001b[36m0:00:00\u001b[0m\n",
            "\u001b[?25hInstalling collected packages: xxhash, fsspec, dill, multiprocess, datasets\n",
            "  Attempting uninstall: fsspec\n",
            "    Found existing installation: fsspec 2025.3.2\n",
            "    Uninstalling fsspec-2025.3.2:\n",
            "      Successfully uninstalled fsspec-2025.3.2\n",
            "\u001b[31mERROR: pip's dependency resolver does not currently take into account all the packages that are installed. This behaviour is the source of the following dependency conflicts.\n",
            "gcsfs 2025.3.2 requires fsspec==2025.3.2, but you have fsspec 2025.3.0 which is incompatible.\n",
            "torch 2.6.0+cu124 requires nvidia-cublas-cu12==12.4.5.8; platform_system == \"Linux\" and platform_machine == \"x86_64\", but you have nvidia-cublas-cu12 12.5.3.2 which is incompatible.\n",
            "torch 2.6.0+cu124 requires nvidia-cuda-cupti-cu12==12.4.127; platform_system == \"Linux\" and platform_machine == \"x86_64\", but you have nvidia-cuda-cupti-cu12 12.5.82 which is incompatible.\n",
            "torch 2.6.0+cu124 requires nvidia-cuda-nvrtc-cu12==12.4.127; platform_system == \"Linux\" and platform_machine == \"x86_64\", but you have nvidia-cuda-nvrtc-cu12 12.5.82 which is incompatible.\n",
            "torch 2.6.0+cu124 requires nvidia-cuda-runtime-cu12==12.4.127; platform_system == \"Linux\" and platform_machine == \"x86_64\", but you have nvidia-cuda-runtime-cu12 12.5.82 which is incompatible.\n",
            "torch 2.6.0+cu124 requires nvidia-cudnn-cu12==9.1.0.70; platform_system == \"Linux\" and platform_machine == \"x86_64\", but you have nvidia-cudnn-cu12 9.3.0.75 which is incompatible.\n",
            "torch 2.6.0+cu124 requires nvidia-cufft-cu12==11.2.1.3; platform_system == \"Linux\" and platform_machine == \"x86_64\", but you have nvidia-cufft-cu12 11.2.3.61 which is incompatible.\n",
            "torch 2.6.0+cu124 requires nvidia-curand-cu12==10.3.5.147; platform_system == \"Linux\" and platform_machine == \"x86_64\", but you have nvidia-curand-cu12 10.3.6.82 which is incompatible.\n",
            "torch 2.6.0+cu124 requires nvidia-cusolver-cu12==11.6.1.9; platform_system == \"Linux\" and platform_machine == \"x86_64\", but you have nvidia-cusolver-cu12 11.6.3.83 which is incompatible.\n",
            "torch 2.6.0+cu124 requires nvidia-cusparse-cu12==12.3.1.170; platform_system == \"Linux\" and platform_machine == \"x86_64\", but you have nvidia-cusparse-cu12 12.5.1.3 which is incompatible.\n",
            "torch 2.6.0+cu124 requires nvidia-nvjitlink-cu12==12.4.127; platform_system == \"Linux\" and platform_machine == \"x86_64\", but you have nvidia-nvjitlink-cu12 12.5.82 which is incompatible.\u001b[0m\u001b[31m\n",
            "\u001b[0mSuccessfully installed datasets-3.6.0 dill-0.3.8 fsspec-2025.3.0 multiprocess-0.70.16 xxhash-3.5.0\n",
            "Collecting evaluate\n",
            "  Downloading evaluate-0.4.3-py3-none-any.whl.metadata (9.2 kB)\n",
            "Requirement already satisfied: datasets>=2.0.0 in /usr/local/lib/python3.11/dist-packages (from evaluate) (3.6.0)\n",
            "Requirement already satisfied: numpy>=1.17 in /usr/local/lib/python3.11/dist-packages (from evaluate) (2.0.2)\n",
            "Requirement already satisfied: dill in /usr/local/lib/python3.11/dist-packages (from evaluate) (0.3.8)\n",
            "Requirement already satisfied: pandas in /usr/local/lib/python3.11/dist-packages (from evaluate) (2.2.2)\n",
            "Requirement already satisfied: requests>=2.19.0 in /usr/local/lib/python3.11/dist-packages (from evaluate) (2.32.3)\n",
            "Requirement already satisfied: tqdm>=4.62.1 in /usr/local/lib/python3.11/dist-packages (from evaluate) (4.67.1)\n",
            "Requirement already satisfied: xxhash in /usr/local/lib/python3.11/dist-packages (from evaluate) (3.5.0)\n",
            "Requirement already satisfied: multiprocess in /usr/local/lib/python3.11/dist-packages (from evaluate) (0.70.16)\n",
            "Requirement already satisfied: fsspec>=2021.05.0 in /usr/local/lib/python3.11/dist-packages (from fsspec[http]>=2021.05.0->evaluate) (2025.3.0)\n",
            "Requirement already satisfied: huggingface-hub>=0.7.0 in /usr/local/lib/python3.11/dist-packages (from evaluate) (0.30.2)\n",
            "Requirement already satisfied: packaging in /usr/local/lib/python3.11/dist-packages (from evaluate) (24.2)\n",
            "Requirement already satisfied: filelock in /usr/local/lib/python3.11/dist-packages (from datasets>=2.0.0->evaluate) (3.18.0)\n",
            "Requirement already satisfied: pyarrow>=15.0.0 in /usr/local/lib/python3.11/dist-packages (from datasets>=2.0.0->evaluate) (18.1.0)\n",
            "Requirement already satisfied: pyyaml>=5.1 in /usr/local/lib/python3.11/dist-packages (from datasets>=2.0.0->evaluate) (6.0.2)\n",
            "Requirement already satisfied: aiohttp!=4.0.0a0,!=4.0.0a1 in /usr/local/lib/python3.11/dist-packages (from fsspec[http]>=2021.05.0->evaluate) (3.11.15)\n",
            "Requirement already satisfied: typing-extensions>=3.7.4.3 in /usr/local/lib/python3.11/dist-packages (from huggingface-hub>=0.7.0->evaluate) (4.13.2)\n",
            "Requirement already satisfied: charset-normalizer<4,>=2 in /usr/local/lib/python3.11/dist-packages (from requests>=2.19.0->evaluate) (3.4.1)\n",
            "Requirement already satisfied: idna<4,>=2.5 in /usr/local/lib/python3.11/dist-packages (from requests>=2.19.0->evaluate) (3.10)\n",
            "Requirement already satisfied: urllib3<3,>=1.21.1 in /usr/local/lib/python3.11/dist-packages (from requests>=2.19.0->evaluate) (2.4.0)\n",
            "Requirement already satisfied: certifi>=2017.4.17 in /usr/local/lib/python3.11/dist-packages (from requests>=2.19.0->evaluate) (2025.4.26)\n",
            "Requirement already satisfied: python-dateutil>=2.8.2 in /usr/local/lib/python3.11/dist-packages (from pandas->evaluate) (2.9.0.post0)\n",
            "Requirement already satisfied: pytz>=2020.1 in /usr/local/lib/python3.11/dist-packages (from pandas->evaluate) (2025.2)\n",
            "Requirement already satisfied: tzdata>=2022.7 in /usr/local/lib/python3.11/dist-packages (from pandas->evaluate) (2025.2)\n",
            "Requirement already satisfied: aiohappyeyeballs>=2.3.0 in /usr/local/lib/python3.11/dist-packages (from aiohttp!=4.0.0a0,!=4.0.0a1->fsspec[http]>=2021.05.0->evaluate) (2.6.1)\n",
            "Requirement already satisfied: aiosignal>=1.1.2 in /usr/local/lib/python3.11/dist-packages (from aiohttp!=4.0.0a0,!=4.0.0a1->fsspec[http]>=2021.05.0->evaluate) (1.3.2)\n",
            "Requirement already satisfied: attrs>=17.3.0 in /usr/local/lib/python3.11/dist-packages (from aiohttp!=4.0.0a0,!=4.0.0a1->fsspec[http]>=2021.05.0->evaluate) (25.3.0)\n",
            "Requirement already satisfied: frozenlist>=1.1.1 in /usr/local/lib/python3.11/dist-packages (from aiohttp!=4.0.0a0,!=4.0.0a1->fsspec[http]>=2021.05.0->evaluate) (1.6.0)\n",
            "Requirement already satisfied: multidict<7.0,>=4.5 in /usr/local/lib/python3.11/dist-packages (from aiohttp!=4.0.0a0,!=4.0.0a1->fsspec[http]>=2021.05.0->evaluate) (6.4.3)\n",
            "Requirement already satisfied: propcache>=0.2.0 in /usr/local/lib/python3.11/dist-packages (from aiohttp!=4.0.0a0,!=4.0.0a1->fsspec[http]>=2021.05.0->evaluate) (0.3.1)\n",
            "Requirement already satisfied: yarl<2.0,>=1.17.0 in /usr/local/lib/python3.11/dist-packages (from aiohttp!=4.0.0a0,!=4.0.0a1->fsspec[http]>=2021.05.0->evaluate) (1.20.0)\n",
            "Requirement already satisfied: six>=1.5 in /usr/local/lib/python3.11/dist-packages (from python-dateutil>=2.8.2->pandas->evaluate) (1.17.0)\n",
            "Downloading evaluate-0.4.3-py3-none-any.whl (84 kB)\n",
            "\u001b[2K   \u001b[90m━━━━━━━━━━━━━━━━━━━━━━━━━━━━━━━━━━━━━━━━\u001b[0m \u001b[32m84.0/84.0 kB\u001b[0m \u001b[31m4.4 MB/s\u001b[0m eta \u001b[36m0:00:00\u001b[0m\n",
            "\u001b[?25hInstalling collected packages: evaluate\n",
            "Successfully installed evaluate-0.4.3\n"
          ]
        }
      ]
    },
    {
      "cell_type": "code",
      "source": [
        "import torch\n",
        "import random\n",
        "import datasets\n",
        "import numpy as np\n",
        "import pandas as pd\n",
        "import seaborn as sns\n",
        "import matplotlib.pyplot as plt\n",
        "\n",
        "from evaluate import load\n",
        "from datasets import Dataset\n",
        "from transformers import Trainer\n",
        "from transformers import TrainerCallback\n",
        "from sklearn.preprocessing import LabelEncoder\n",
        "from sklearn.model_selection import train_test_split\n",
        "from sklearn.metrics import confusion_matrix, classification_report\n",
        "from transformers import AutoTokenizer, AutoModelForSequenceClassification\n",
        "from transformers import BertTokenizerFast, BertConfig, BertForSequenceClassification, Trainer, TrainingArguments"
      ],
      "metadata": {
        "id": "dhYzeYb0S31i"
      },
      "execution_count": 2,
      "outputs": []
    },
    {
      "cell_type": "markdown",
      "source": [
        "**2- Data Loading**"
      ],
      "metadata": {
        "id": "9230YkyKVPxn"
      }
    },
    {
      "cell_type": "code",
      "source": [
        "from google.colab import drive\n",
        "drive.mount('/content/drive')"
      ],
      "metadata": {
        "colab": {
          "base_uri": "https://localhost:8080/"
        },
        "id": "JIltPfrZCHa5",
        "outputId": "aded50f6-7f1e-4453-fb22-7eb4b80871d1"
      },
      "execution_count": 3,
      "outputs": [
        {
          "output_type": "stream",
          "name": "stdout",
          "text": [
            "Mounted at /content/drive\n"
          ]
        }
      ]
    },
    {
      "cell_type": "code",
      "source": [
        "import os\n",
        "\n",
        "path = '/content/drive/MyDrive/Reddit_dataset'\n",
        "\n",
        "os.chdir(f'{path}')\n",
        "os.getcwd()"
      ],
      "metadata": {
        "colab": {
          "base_uri": "https://localhost:8080/",
          "height": 35
        },
        "id": "hGVM4gzYCNLp",
        "outputId": "ca49093e-c108-4cc0-b067-7dff8ceeeb32"
      },
      "execution_count": 4,
      "outputs": [
        {
          "output_type": "execute_result",
          "data": {
            "text/plain": [
              "'/content/drive/.shortcut-targets-by-id/1uYfTSnfokWDeAv9-_LyZu5MGDLuJlF_n/Reddit_dataset'"
            ],
            "application/vnd.google.colaboratory.intrinsic+json": {
              "type": "string"
            }
          },
          "metadata": {},
          "execution_count": 4
        }
      ]
    },
    {
      "cell_type": "markdown",
      "source": [
        "**3- Prepare dataset to train**"
      ],
      "metadata": {
        "id": "4zQJVENJWBY4"
      }
    },
    {
      "cell_type": "code",
      "source": [
        "def set_seed(seed):\n",
        "    random.seed(seed)\n",
        "    np.random.seed(seed)\n",
        "    torch.manual_seed(seed)\n",
        "    if torch.cuda.is_available():\n",
        "        torch.cuda.manual_seed_all(seed)\n",
        "\n",
        "set_seed(42)"
      ],
      "metadata": {
        "id": "r0Zu9Xnny5uM"
      },
      "execution_count": 5,
      "outputs": []
    },
    {
      "cell_type": "code",
      "source": [
        "# Load dataset\n",
        "df = pd.read_csv(\"/content/drive/MyDrive/Reddit_dataset/Finance_50K_Cleaned_Labels.csv\")\n",
        "df.drop(['label', 'text'], axis=1, inplace=True)\n",
        "df = df.rename(columns={'preprocessed_text': 'text', 'clean_label': 'label'})\n",
        "\n",
        "# Encode labels\n",
        "le = LabelEncoder()\n",
        "df['label'] = le.fit_transform(df['label'])\n",
        "\n",
        "train_df, test_df = train_test_split(df[['text', 'label']], test_size=0.2, stratify=df['label'], random_state=42)\n",
        "\n",
        "train_dataset = Dataset.from_pandas(train_df)\n",
        "test_dataset = Dataset.from_pandas(test_df)"
      ],
      "metadata": {
        "id": "CN77OJ79TPBG"
      },
      "execution_count": 6,
      "outputs": []
    },
    {
      "cell_type": "code",
      "source": [
        "# Tokenizer\n",
        "tokenizer = BertTokenizerFast.from_pretrained(\"bert-base-uncased\")\n",
        "def tokenize_function(example):\n",
        "    return tokenizer(example[\"text\"], padding=\"max_length\", truncation=True, max_length=128)\n",
        "\n",
        "tokenized_train = train_dataset.map(tokenize_function, batched=True)\n",
        "tokenized_test = test_dataset.map(tokenize_function, batched=True)"
      ],
      "metadata": {
        "colab": {
          "base_uri": "https://localhost:8080/",
          "height": 313,
          "referenced_widgets": [
            "505671b95f424f08a9d91a4d935159b6",
            "f13bf604000345ea9c1bf5fc9014541e",
            "f475afde3d5a4668a53a73238f333d5a",
            "121d74ddb06f4ed19fade31d7e9f7281",
            "ffac4458100945ebb05132a8f976b5a7",
            "49f171bab5904ff384331c61ce8083d5",
            "afbf2857775b46779fe6a4a6edf35818",
            "fd3cd8876b5f4b06b2625bcdcf886b49",
            "92f725e34a1f4bd69c8656ac35db542f",
            "a6150c69ec484ac7a81de649fa4b7639",
            "f2caa79fd8be43c6bdb0ce5db1905962",
            "c68df7a899814731984577ee4d212c69",
            "c404b62dad554167b1b9cefd7c82ddb3",
            "faca0392e6494ce69ffce30716dd79e1",
            "94ee38724de948f68b0b93a25b23ec16",
            "a206690eeac64013885dd39b7ce3391c",
            "4f508af841c14d4c82ca790a0db87d16",
            "91d75b5a4e2844218928c4feee20d5d6",
            "71ea3dc361b949c7ba0de2617ea27355",
            "5ff6aa2934dd41998bd8cf5c1f8bdafa",
            "d24c0df237724611af70d450767c4106",
            "f8683b90866c454fafee5633b5ed7fe1",
            "237b1aae1ef44a7390f07a7c16432688",
            "938833d642134e4ea21c408b444f39da",
            "ec1def13a51f444a9905e414d6bc0248",
            "c0587d06f3a24596935bf183094f7e0a",
            "db265c306f7b491ea40d16d8a0185e7e",
            "2b635c8b3c9048d4b73eb78f9682a084",
            "f32c1a72a8a8462ca0633969d1213efd",
            "c9226cf830d04ab18974725176cf79ac",
            "eee11d28fc6d4be5b7938e5c673a2f89",
            "f7827a111368400daeb91b418178cbe9",
            "1aef6f59931043c0af1e9524bb8863fb",
            "edfd2239c4c74b999ca975419035c22b",
            "ad688658d1db42608e7c6a3b33f99be4",
            "eb9c033a0076477b90082bde5bf4f080",
            "64cc38dcb46d44bfb6d43f69f098e570",
            "ec1bf0a951ed41be983ff179f1ac57d1",
            "4730d11bdbe34f71898859adbb2a1259",
            "ec243ee8ffe54b33ba8a75f7a6048c41",
            "0869a714b8074e6eb4e3fc14cbf8ce53",
            "d95b6779586c408ebf988519e106978e",
            "254911687fa94a7ab3edd64cbbd6f959",
            "a8871209b9d4401b92e9a8083f617ab1",
            "8ba6514f7ab84f3bb47721f254e259b9",
            "bbf3ed3cd4084798a66022f2976f79e1",
            "afca4eef9932493490a3b98268df1e9a",
            "863d7481027d41b2ab818938af3f397d",
            "bfb4ed39d93a452d8fcd24feaae7f9c6",
            "1f5134c938024d9cad4d78cd94433a38",
            "b22b8d11b447487f9570a6003fb80abe",
            "c1a0f6db6a1649abbea88fd53bc44614",
            "f1f0597225054298b2ac825b6378f59f",
            "cfd313ed24eb4d749a9256bf3f3deb5b",
            "9eabacb6b06c458fa834bcbe305e7cd5",
            "c52faaa89d2e4855b1f484a43f5d0c49",
            "008bd8b31975431197ec96b3a2eb69d8",
            "77cf83fa86ee48f7bb62707d89f809f8",
            "6c3f12e08b224b2ea56ab9a784ee3cf9",
            "837dbe22999643ed8feb93bb7e679abc",
            "fcaa01cd36534212883732d1fe214cc1",
            "5b7066351308477592ffef91386aa1b7",
            "6d55e8b355654222a8e86fff24a9e37e",
            "968f292d6a474ae39e50464f813a06c8",
            "985cc5c9522849c8a5761dc17fca107f",
            "d66517ba17614751ad6f3214aec61f67"
          ]
        },
        "id": "0lCk-X8QTSFP",
        "outputId": "98424725-5ac7-4abb-9970-f97febc43b00"
      },
      "execution_count": 7,
      "outputs": [
        {
          "output_type": "stream",
          "name": "stderr",
          "text": [
            "/usr/local/lib/python3.11/dist-packages/huggingface_hub/utils/_auth.py:94: UserWarning: \n",
            "The secret `HF_TOKEN` does not exist in your Colab secrets.\n",
            "To authenticate with the Hugging Face Hub, create a token in your settings tab (https://huggingface.co/settings/tokens), set it as secret in your Google Colab and restart your session.\n",
            "You will be able to reuse this secret in all of your notebooks.\n",
            "Please note that authentication is recommended but still optional to access public models or datasets.\n",
            "  warnings.warn(\n"
          ]
        },
        {
          "output_type": "display_data",
          "data": {
            "text/plain": [
              "tokenizer_config.json:   0%|          | 0.00/48.0 [00:00<?, ?B/s]"
            ],
            "application/vnd.jupyter.widget-view+json": {
              "version_major": 2,
              "version_minor": 0,
              "model_id": "505671b95f424f08a9d91a4d935159b6"
            }
          },
          "metadata": {}
        },
        {
          "output_type": "display_data",
          "data": {
            "text/plain": [
              "vocab.txt:   0%|          | 0.00/232k [00:00<?, ?B/s]"
            ],
            "application/vnd.jupyter.widget-view+json": {
              "version_major": 2,
              "version_minor": 0,
              "model_id": "c68df7a899814731984577ee4d212c69"
            }
          },
          "metadata": {}
        },
        {
          "output_type": "display_data",
          "data": {
            "text/plain": [
              "tokenizer.json:   0%|          | 0.00/466k [00:00<?, ?B/s]"
            ],
            "application/vnd.jupyter.widget-view+json": {
              "version_major": 2,
              "version_minor": 0,
              "model_id": "237b1aae1ef44a7390f07a7c16432688"
            }
          },
          "metadata": {}
        },
        {
          "output_type": "display_data",
          "data": {
            "text/plain": [
              "config.json:   0%|          | 0.00/570 [00:00<?, ?B/s]"
            ],
            "application/vnd.jupyter.widget-view+json": {
              "version_major": 2,
              "version_minor": 0,
              "model_id": "edfd2239c4c74b999ca975419035c22b"
            }
          },
          "metadata": {}
        },
        {
          "output_type": "display_data",
          "data": {
            "text/plain": [
              "Map:   0%|          | 0/39816 [00:00<?, ? examples/s]"
            ],
            "application/vnd.jupyter.widget-view+json": {
              "version_major": 2,
              "version_minor": 0,
              "model_id": "8ba6514f7ab84f3bb47721f254e259b9"
            }
          },
          "metadata": {}
        },
        {
          "output_type": "display_data",
          "data": {
            "text/plain": [
              "Map:   0%|          | 0/9954 [00:00<?, ? examples/s]"
            ],
            "application/vnd.jupyter.widget-view+json": {
              "version_major": 2,
              "version_minor": 0,
              "model_id": "c52faaa89d2e4855b1f484a43f5d0c49"
            }
          },
          "metadata": {}
        }
      ]
    },
    {
      "cell_type": "markdown",
      "source": [
        "**4- Model Implementation**"
      ],
      "metadata": {
        "id": "Tp3qAcTskvsR"
      }
    },
    {
      "cell_type": "code",
      "source": [
        "class TrainingStatsCollector(TrainerCallback):\n",
        "    def __init__(self, train_dataset, tokenizer, model, device='cuda' if torch.cuda.is_available() else 'cpu', bs=64):\n",
        "        self.train_dataset = train_dataset\n",
        "        self.tokenizer = tokenizer\n",
        "        self.model = model.to(device)\n",
        "        self.device = device\n",
        "        self.bs = bs\n",
        "        self.train_loss = []\n",
        "        self.eval_loss = []\n",
        "        self.train_acc = []\n",
        "        self.eval_acc = []\n",
        "\n",
        "    def compute_train_accuracy(self):\n",
        "        self.model.eval()\n",
        "        all_preds, all_labels = [], []\n",
        "        for i in range(0, len(self.train_dataset), self.bs):  # Manual batching\n",
        "            batch = self.train_dataset[i:i+self.bs]\n",
        "            texts = batch['text']\n",
        "            labels = batch['label']\n",
        "            encodings = self.tokenizer(texts, truncation=True, padding=True, max_length=128, return_tensors=\"pt\").to(self.device)\n",
        "            labels_tensor = torch.tensor(labels).to(self.device)\n",
        "            with torch.no_grad():\n",
        "                outputs = self.model(**encodings)\n",
        "                preds = torch.argmax(outputs.logits, dim=1)\n",
        "                all_preds.extend(preds.cpu().numpy())\n",
        "                all_labels.extend(labels_tensor.cpu().numpy())\n",
        "        correct = np.sum(np.array(all_preds) == np.array(all_labels))\n",
        "        return correct / len(self.train_dataset)\n",
        "\n",
        "    def on_log(self, args, state, control, logs=None, **kwargs):\n",
        "        if logs is None:\n",
        "            return\n",
        "        # Safely append available values\n",
        "        if \"loss\" in logs:\n",
        "            self.train_loss.append(logs[\"loss\"])\n",
        "\n",
        "    def on_evaluate(self, args, state, control, metrics=None, **kwargs):\n",
        "        if metrics is None:\n",
        "            return\n",
        "        if \"eval_loss\" in metrics:\n",
        "            self.eval_loss.append(metrics[\"eval_loss\"])\n",
        "        if \"eval_accuracy\" in metrics:\n",
        "            self.eval_acc.append(metrics[\"eval_accuracy\"])\n",
        "        train_accuracy = self.compute_train_accuracy()\n",
        "        self.train_acc.append(train_accuracy)"
      ],
      "metadata": {
        "id": "9XDDZHiDTXU7"
      },
      "execution_count": 8,
      "outputs": []
    },
    {
      "cell_type": "code",
      "source": [
        "# Metric\n",
        "accuracy = load(\"accuracy\")\n",
        "def compute_metrics(p):\n",
        "    return accuracy.compute(predictions=p.predictions.argmax(axis=1), references=p.label_ids)"
      ],
      "metadata": {
        "id": "_-9zMM49TgaA",
        "colab": {
          "base_uri": "https://localhost:8080/",
          "height": 49,
          "referenced_widgets": [
            "aa98ff3143864d67bc20355e8744df4f",
            "713b7bd995a241c7a99479fde9233cf9",
            "12a0b7615e8e4c4791410699965d35b4",
            "4fe73380c75945aba07e4343b269fcfc",
            "2beff5a128fd4e818025feb0ccc9c463",
            "a2b8b2648c9e43f18b6a082c1084f909",
            "7c474c92d73d499eabeb98084f37cc74",
            "7372483c112a4630bff90c33c3b093df",
            "f0754b09f803456bb04a8cea78b96fb5",
            "085c259528b948a28316154e2cb9c560",
            "4fe0af9e473b48e99c81f3434eb74a9e"
          ]
        },
        "outputId": "64ce41bf-487e-4b8b-da5a-c2429fc07113"
      },
      "execution_count": 9,
      "outputs": [
        {
          "output_type": "display_data",
          "data": {
            "text/plain": [
              "Downloading builder script:   0%|          | 0.00/4.20k [00:00<?, ?B/s]"
            ],
            "application/vnd.jupyter.widget-view+json": {
              "version_major": 2,
              "version_minor": 0,
              "model_id": "aa98ff3143864d67bc20355e8744df4f"
            }
          },
          "metadata": {}
        }
      ]
    },
    {
      "cell_type": "code",
      "source": [
        "# Model config\n",
        "config = BertConfig(\n",
        "    vocab_size=tokenizer.vocab_size,\n",
        "    num_labels=3\n",
        ")\n",
        "\n",
        "model = BertForSequenceClassification(config)\n",
        "\n",
        "# Training\n",
        "training_args = TrainingArguments(\n",
        "    output_dir=\"./bert_scratch\",\n",
        "    eval_strategy=\"epoch\",\n",
        "    save_strategy=\"epoch\",                 # Save checkpoint each epoch\n",
        "    save_total_limit=1,                    # Keep only one checkpoint\n",
        "    load_best_model_at_end=True,           # Reload best model after training\n",
        "    metric_for_best_model=\"eval_loss\",     # Use eval_loss to select best\n",
        "    greater_is_better=False,               # Lower eval_loss is better\n",
        "    learning_rate=2e-5,\n",
        "    per_device_train_batch_size=128,\n",
        "    per_device_eval_batch_size=128,\n",
        "    num_train_epochs=5,\n",
        "    weight_decay=0.01,\n",
        "    logging_dir='./logs'\n",
        ")\n",
        "\n",
        "stats_callback = TrainingStatsCollector(train_dataset=train_dataset, tokenizer=tokenizer, model=model, bs=128)\n",
        "\n",
        "trainer = Trainer(\n",
        "    model=model,\n",
        "    args=training_args,\n",
        "    train_dataset=tokenized_train,\n",
        "    eval_dataset=tokenized_test,\n",
        "    tokenizer=tokenizer,\n",
        "    compute_metrics=compute_metrics,\n",
        "    callbacks=[stats_callback]\n",
        ")"
      ],
      "metadata": {
        "id": "ILyP8IopytDJ",
        "colab": {
          "base_uri": "https://localhost:8080/"
        },
        "outputId": "5bce0d2b-0e65-4379-8355-c561c84bb0da"
      },
      "execution_count": 10,
      "outputs": [
        {
          "output_type": "stream",
          "name": "stderr",
          "text": [
            "<ipython-input-10-6a12b4723f89>:28: FutureWarning: `tokenizer` is deprecated and will be removed in version 5.0.0 for `Trainer.__init__`. Use `processing_class` instead.\n",
            "  trainer = Trainer(\n"
          ]
        }
      ]
    },
    {
      "cell_type": "markdown",
      "source": [
        "**5- Train and Evaluation**"
      ],
      "metadata": {
        "id": "yKZfmsiGpCNa"
      }
    },
    {
      "cell_type": "code",
      "source": [
        "trainer.train()"
      ],
      "metadata": {
        "colab": {
          "base_uri": "https://localhost:8080/",
          "height": 717
        },
        "id": "Aq6I34jPTnJU",
        "outputId": "f6ffa02f-9e14-4883-ad7d-48a8e1d94ecd"
      },
      "execution_count": 11,
      "outputs": [
        {
          "metadata": {
            "tags": null
          },
          "name": "stderr",
          "output_type": "stream",
          "text": [
            "\u001b[34m\u001b[1mwandb\u001b[0m: \u001b[33mWARNING\u001b[0m The `run_name` is currently set to the same value as `TrainingArguments.output_dir`. If this was not intended, please specify a different run name by setting the `TrainingArguments.run_name` parameter.\n"
          ]
        },
        {
          "data": {
            "application/javascript": [
              "\n",
              "        window._wandbApiKey = new Promise((resolve, reject) => {\n",
              "            function loadScript(url) {\n",
              "            return new Promise(function(resolve, reject) {\n",
              "                let newScript = document.createElement(\"script\");\n",
              "                newScript.onerror = reject;\n",
              "                newScript.onload = resolve;\n",
              "                document.body.appendChild(newScript);\n",
              "                newScript.src = url;\n",
              "            });\n",
              "            }\n",
              "            loadScript(\"https://cdn.jsdelivr.net/npm/postmate/build/postmate.min.js\").then(() => {\n",
              "            const iframe = document.createElement('iframe')\n",
              "            iframe.style.cssText = \"width:0;height:0;border:none\"\n",
              "            document.body.appendChild(iframe)\n",
              "            const handshake = new Postmate({\n",
              "                container: iframe,\n",
              "                url: 'https://wandb.ai/authorize'\n",
              "            });\n",
              "            const timeout = setTimeout(() => reject(\"Couldn't auto authenticate\"), 5000)\n",
              "            handshake.then(function(child) {\n",
              "                child.on('authorize', data => {\n",
              "                    clearTimeout(timeout)\n",
              "                    resolve(data)\n",
              "                });\n",
              "            });\n",
              "            })\n",
              "        });\n",
              "    "
            ],
            "text/plain": [
              "<IPython.core.display.Javascript object>"
            ]
          },
          "metadata": {},
          "output_type": "display_data"
        },
        {
          "metadata": {
            "tags": null
          },
          "name": "stderr",
          "output_type": "stream",
          "text": [
            "\u001b[34m\u001b[1mwandb\u001b[0m: Logging into wandb.ai. (Learn how to deploy a W&B server locally: https://wandb.me/wandb-server)\n",
            "\u001b[34m\u001b[1mwandb\u001b[0m: You can find your API key in your browser here: https://wandb.ai/authorize?ref=models\n",
            "wandb: Paste an API key from your profile and hit enter:\u001b[34m\u001b[1mwandb\u001b[0m: \u001b[33mWARNING\u001b[0m If you're specifying your api key in code, ensure this code is not shared publicly.\n",
            "\u001b[34m\u001b[1mwandb\u001b[0m: \u001b[33mWARNING\u001b[0m Consider setting the WANDB_API_KEY environment variable, or running `wandb login` from the command line.\n",
            "\u001b[34m\u001b[1mwandb\u001b[0m: No netrc file found, creating one.\n",
            "\u001b[34m\u001b[1mwandb\u001b[0m: Appending key for api.wandb.ai to your netrc file: /root/.netrc\n",
            "\u001b[34m\u001b[1mwandb\u001b[0m: Currently logged in as: \u001b[33mmoeintaheri78\u001b[0m (\u001b[33mmoeintaheri78-politecnico-di-milano\u001b[0m) to \u001b[32mhttps://api.wandb.ai\u001b[0m. Use \u001b[1m`wandb login --relogin`\u001b[0m to force relogin\n"
          ]
        },
        {
          "data": {
            "text/html": [
              "Tracking run with wandb version 0.19.10"
            ],
            "text/plain": [
              "<IPython.core.display.HTML object>"
            ]
          },
          "metadata": {},
          "output_type": "display_data"
        },
        {
          "data": {
            "text/html": [
              "Run data is saved locally in <code>/content/drive/.shortcut-targets-by-id/1uYfTSnfokWDeAv9-_LyZu5MGDLuJlF_n/Reddit_dataset/wandb/run-20250508_132028-i329cyq7</code>"
            ],
            "text/plain": [
              "<IPython.core.display.HTML object>"
            ]
          },
          "metadata": {},
          "output_type": "display_data"
        },
        {
          "data": {
            "text/html": [
              "Syncing run <strong><a href='https://wandb.ai/moeintaheri78-politecnico-di-milano/huggingface/runs/i329cyq7' target=\"_blank\">./bert_scratch</a></strong> to <a href='https://wandb.ai/moeintaheri78-politecnico-di-milano/huggingface' target=\"_blank\">Weights & Biases</a> (<a href='https://wandb.me/developer-guide' target=\"_blank\">docs</a>)<br>"
            ],
            "text/plain": [
              "<IPython.core.display.HTML object>"
            ]
          },
          "metadata": {},
          "output_type": "display_data"
        },
        {
          "data": {
            "text/html": [
              " View project at <a href='https://wandb.ai/moeintaheri78-politecnico-di-milano/huggingface' target=\"_blank\">https://wandb.ai/moeintaheri78-politecnico-di-milano/huggingface</a>"
            ],
            "text/plain": [
              "<IPython.core.display.HTML object>"
            ]
          },
          "metadata": {},
          "output_type": "display_data"
        },
        {
          "data": {
            "text/html": [
              " View run at <a href='https://wandb.ai/moeintaheri78-politecnico-di-milano/huggingface/runs/i329cyq7' target=\"_blank\">https://wandb.ai/moeintaheri78-politecnico-di-milano/huggingface/runs/i329cyq7</a>"
            ],
            "text/plain": [
              "<IPython.core.display.HTML object>"
            ]
          },
          "metadata": {},
          "output_type": "display_data"
        },
        {
          "data": {
            "text/html": [
              "\n",
              "    <div>\n",
              "      \n",
              "      <progress value='1427' max='1560' style='width:300px; height:20px; vertical-align: middle;'></progress>\n",
              "      [1427/1560 1:21:53 < 07:38, 0.29 it/s, Epoch 4.57/5]\n",
              "    </div>\n",
              "    <table border=\"1\" class=\"dataframe\">\n",
              "  <thead>\n",
              " <tr style=\"text-align: left;\">\n",
              "      <th>Epoch</th>\n",
              "      <th>Training Loss</th>\n",
              "      <th>Validation Loss</th>\n",
              "      <th>Accuracy</th>\n",
              "    </tr>\n",
              "  </thead>\n",
              "  <tbody>\n",
              "    <tr>\n",
              "      <td>1</td>\n",
              "      <td>No log</td>\n",
              "      <td>0.935823</td>\n",
              "      <td>0.552843</td>\n",
              "    </tr>\n",
              "    <tr>\n",
              "      <td>2</td>\n",
              "      <td>0.979700</td>\n",
              "      <td>0.988516</td>\n",
              "      <td>0.539783</td>\n",
              "    </tr>\n",
              "    <tr>\n",
              "      <td>3</td>\n",
              "      <td>0.979700</td>\n",
              "      <td>0.887009</td>\n",
              "      <td>0.582078</td>\n",
              "    </tr>\n",
              "    <tr>\n",
              "      <td>4</td>\n",
              "      <td>0.825500</td>\n",
              "      <td>0.854827</td>\n",
              "      <td>0.601266</td>\n",
              "    </tr>\n",
              "  </tbody>\n",
              "</table><p>"
            ],
            "text/plain": [
              "<IPython.core.display.HTML object>"
            ]
          },
          "metadata": {},
          "output_type": "display_data"
        },
        {
          "output_type": "display_data",
          "data": {
            "text/plain": [
              "<IPython.core.display.HTML object>"
            ],
            "text/html": [
              "\n",
              "    <div>\n",
              "      \n",
              "      <progress value='1560' max='1560' style='width:300px; height:20px; vertical-align: middle;'></progress>\n",
              "      [1560/1560 1:33:18, Epoch 5/5]\n",
              "    </div>\n",
              "    <table border=\"1\" class=\"dataframe\">\n",
              "  <thead>\n",
              " <tr style=\"text-align: left;\">\n",
              "      <th>Epoch</th>\n",
              "      <th>Training Loss</th>\n",
              "      <th>Validation Loss</th>\n",
              "      <th>Accuracy</th>\n",
              "    </tr>\n",
              "  </thead>\n",
              "  <tbody>\n",
              "    <tr>\n",
              "      <td>1</td>\n",
              "      <td>No log</td>\n",
              "      <td>0.935823</td>\n",
              "      <td>0.552843</td>\n",
              "    </tr>\n",
              "    <tr>\n",
              "      <td>2</td>\n",
              "      <td>0.979700</td>\n",
              "      <td>0.988516</td>\n",
              "      <td>0.539783</td>\n",
              "    </tr>\n",
              "    <tr>\n",
              "      <td>3</td>\n",
              "      <td>0.979700</td>\n",
              "      <td>0.887009</td>\n",
              "      <td>0.582078</td>\n",
              "    </tr>\n",
              "    <tr>\n",
              "      <td>4</td>\n",
              "      <td>0.825500</td>\n",
              "      <td>0.854827</td>\n",
              "      <td>0.601266</td>\n",
              "    </tr>\n",
              "    <tr>\n",
              "      <td>5</td>\n",
              "      <td>0.758200</td>\n",
              "      <td>0.843933</td>\n",
              "      <td>0.620354</td>\n",
              "    </tr>\n",
              "  </tbody>\n",
              "</table><p>"
            ]
          },
          "metadata": {}
        },
        {
          "output_type": "execute_result",
          "data": {
            "text/plain": [
              "TrainOutput(global_step=1560, training_loss=0.8497053733238807, metrics={'train_runtime': 5640.5523, 'train_samples_per_second': 35.294, 'train_steps_per_second': 0.277, 'total_flos': 1.309515480032256e+16, 'train_loss': 0.8497053733238807, 'epoch': 5.0})"
            ]
          },
          "metadata": {},
          "execution_count": 11
        }
      ]
    },
    {
      "cell_type": "markdown",
      "source": [
        "**6- Results**"
      ],
      "metadata": {
        "id": "xFSrdzeHpL4l"
      }
    },
    {
      "cell_type": "code",
      "source": [
        "# Plot losses\n",
        "plt.figure()\n",
        "plt.plot(stats_callback.train_loss, label='Train Loss')\n",
        "plt.plot(stats_callback.eval_loss, label='Eval Loss')\n",
        "plt.xlabel('Epoch')\n",
        "plt.ylabel('Loss')\n",
        "plt.title('Loss Curve')\n",
        "plt.legend()\n",
        "plt.savefig(\"plots/bert_scratch_loss.png\")\n",
        "\n",
        "# Plot accuracy\n",
        "plt.figure()\n",
        "plt.plot(stats_callback.eval_acc, label='Eval Accuracy')\n",
        "plt.plot(stats_callback.train_acc, label='Train Accuracy')\n",
        "plt.xlabel('Epoch')\n",
        "plt.ylabel('Accuracy')\n",
        "plt.title('Accuracy Curve')\n",
        "plt.legend()\n",
        "plt.savefig(\"plots/bert_scratch_accuracy.png\")"
      ],
      "metadata": {
        "colab": {
          "base_uri": "https://localhost:8080/",
          "height": 927
        },
        "id": "UCIYUeJU8gN7",
        "outputId": "0f2413c2-ab30-463f-a296-76996655e518"
      },
      "execution_count": 12,
      "outputs": [
        {
          "output_type": "display_data",
          "data": {
            "text/plain": [
              "<Figure size 640x480 with 1 Axes>"
            ],
            "image/png": "[encoded data removed]"
          },
          "metadata": {}
        },
        {
          "output_type": "display_data",
          "data": {
            "text/plain": [
              "<Figure size 640x480 with 1 Axes>"
            ],
            "image/png": "[encoded data removed]"
          },
          "metadata": {}
        }
      ]
    },
    {
      "cell_type": "code",
      "source": [
        "# model_name_or_path = \"./bert_scratch\"  # path to fine-tuned model\n",
        "# tokenizer = AutoTokenizer.from_pretrained(model_name_or_path)\n",
        "# model = AutoModelForSequenceClassification.from_pretrained(model_name_or_path)\n",
        "model.eval()\n",
        "\n",
        "trainer = Trainer(model=model)\n",
        "preds = trainer.predict(tokenized_test)\n",
        "y_pred = np.argmax(preds.predictions, axis=1)\n",
        "y_true = preds.label_ids\n",
        "\n",
        "print(\"Classification Report:\")\n",
        "print(classification_report(y_true, y_pred, target_names=le.classes_))\n",
        "\n",
        "cm = confusion_matrix(y_true, y_pred)\n",
        "plt.figure(figsize=(6, 5))\n",
        "sns.heatmap(cm, annot=True, fmt='d', cmap='Blues', xticklabels=le.classes_, yticklabels=le.classes_)\n",
        "plt.title(\"Confusion Matrix\")\n",
        "plt.xlabel(\"Predicted\")\n",
        "plt.ylabel(\"True\")\n",
        "plt.tight_layout()\n",
        "plt.savefig(\"plots/bert_scratch_confmat_testset.png\")"
      ],
      "metadata": {
        "colab": {
          "base_uri": "https://localhost:8080/",
          "height": 698
        },
        "id": "wAlLYSRl8rer",
        "outputId": "ffb53cc4-446a-42cd-d2e0-49edfed90752"
      },
      "execution_count": 13,
      "outputs": [
        {
          "output_type": "display_data",
          "data": {
            "text/plain": [
              "<IPython.core.display.HTML object>"
            ],
            "text/html": []
          },
          "metadata": {}
        },
        {
          "output_type": "stream",
          "name": "stdout",
          "text": [
            "Classification Report:\n",
            "              precision    recall  f1-score   support\n",
            "\n",
            "    Negative       0.63      0.64      0.63      3595\n",
            "     Neutral       0.65      0.68      0.66      4549\n",
            "    Positive       0.53      0.44      0.48      1810\n",
            "\n",
            "    accuracy                           0.62      9954\n",
            "   macro avg       0.60      0.59      0.59      9954\n",
            "weighted avg       0.62      0.62      0.62      9954\n",
            "\n"
          ]
        },
        {
          "output_type": "display_data",
          "data": {
            "text/plain": [
              "<Figure size 600x500 with 2 Axes>"
            ],
            "image/png": "[encoded data removed]"
          },
          "metadata": {}
        }
      ]
    },
    {
      "cell_type": "code",
      "source": [
        "def predict_unlabeled_texts(texts):\n",
        "    encodings = tokenizer(texts, padding=True, truncation=True, max_length=128, return_tensors=\"pt\")\n",
        "\n",
        "    # Move encodings to the same device as the model\n",
        "    encodings = {key: value.to(model.device) for key, value in encodings.items()}\n",
        "\n",
        "    with torch.no_grad():\n",
        "        outputs = model(**encodings)\n",
        "        preds = torch.argmax(outputs.logits, dim=1).cpu().numpy()\n",
        "    labels = le.inverse_transform(preds)\n",
        "    for text, label in zip(texts, labels):\n",
        "        print(f\"Text: {text}\\nPredicted Sentiment: {label}\\n\")\n",
        "\n",
        "# Example usage\n",
        "unlabeled_texts = [\n",
        "    \"Markets rallied today on strong earnings reports\",\n",
        "    \"The economic outlook remains uncertain\",\n",
        "    \"Tech stocks soared after a positive forecast\",\n",
        "    \"I love save my money to become a rich man\",\n",
        "    \"America had a bad economic experience during the Trump presidency\"\n",
        "]\n",
        "predict_unlabeled_texts(unlabeled_texts)"
      ],
      "metadata": {
        "colab": {
          "base_uri": "https://localhost:8080/"
        },
        "id": "cCAYdQSw3C0A",
        "outputId": "a95863bd-ba1e-4562-a19c-56e58abf922c"
      },
      "execution_count": 19,
      "outputs": [
        {
          "output_type": "stream",
          "name": "stdout",
          "text": [
            "Text: Markets rallied today on strong earnings reports\n",
            "Predicted Sentiment: Neutral\n",
            "\n",
            "Text: The economic outlook remains uncertain\n",
            "Predicted Sentiment: Neutral\n",
            "\n",
            "Text: Tech stocks soared after a positive forecast\n",
            "Predicted Sentiment: Neutral\n",
            "\n",
            "Text: I love save my money to become a rich man\n",
            "Predicted Sentiment: Positive\n",
            "\n",
            "Text: America had a bad economic experience during the Trump presidency\n",
            "Predicted Sentiment: Negative\n",
            "\n"
          ]
        }
      ]
    },
    {
      "cell_type": "code",
      "source": [
        "import shutil\n",
        "from IPython.display import FileLink\n",
        "\n",
        "# Step 1: Create a directory and then zip the folder containing the plots (replace 'plots' with your folder name)\n",
        "!mkdir plots_Transformers # Create a directory if it doesn't exist\n",
        "shutil.make_archive('plots_Transformers', 'zip', 'plots')  # change 'plots_Transformers' to 'plots'\n",
        "\n",
        "# Step 2: Provide a download link\n",
        "FileLink('plots_Transformers.zip')"
      ],
      "metadata": {
        "colab": {
          "base_uri": "https://localhost:8080/",
          "height": 34
        },
        "id": "5zeXI9SMyMFQ",
        "outputId": "0d237d5e-0757-487c-bb6f-0ebd375f8c1e"
      },
      "execution_count": 16,
      "outputs": [
        {
          "output_type": "execute_result",
          "data": {
            "text/plain": [
              "/content/drive/.shortcut-targets-by-id/1uYfTSnfokWDeAv9-_LyZu5MGDLuJlF_n/Reddit_dataset/plots_Transformers.zip"
            ],
            "text/html": [
              "<a href='plots_Transformers.zip' target='_blank'>plots_Transformers.zip</a><br>"
            ]
          },
          "metadata": {},
          "execution_count": 16
        }
      ]
    },
    {
      "cell_type": "markdown",
      "source": [
        "**7- Fine-tuning**"
      ],
      "metadata": {
        "id": "P9Tq-a2Zvo3O"
      }
    },
    {
      "cell_type": "code",
      "source": [
        "model_name = \"ProsusAI/finbert\"\n",
        "tokenizer = AutoTokenizer.from_pretrained(model_name)\n",
        "model = AutoModelForSequenceClassification.from_pretrained(model_name, num_labels=3)\n",
        "\n",
        "def tokenize_function(example):\n",
        "    return tokenizer(example['text'], truncation=True, padding=\"max_length\", max_length=128)\n",
        "\n",
        "tokenized_train = train_dataset.map(tokenize_function, batched=True)\n",
        "tokenized_test = test_dataset.map(tokenize_function, batched=True)\n",
        "\n",
        "training_args = TrainingArguments(\n",
        "    output_dir=\"./finbert_finetuned\",\n",
        "    eval_strategy=\"epoch\",\n",
        "    save_strategy=\"epoch\",\n",
        "    save_total_limit=1,                    # Keep only one checkpoint\n",
        "    load_best_model_at_end=True,           # Reload best model after training\n",
        "    greater_is_better=False,               # Lower eval_loss is better\n",
        "    learning_rate=2e-5,\n",
        "    per_device_train_batch_size=128,\n",
        "    per_device_eval_batch_size=128,\n",
        "    num_train_epochs=3,\n",
        "    weight_decay=0.01,\n",
        "    logging_dir=\"./logs\",\n",
        "    metric_for_best_model=\"eval_loss\"\n",
        ")\n",
        "\n",
        "stats_callback = TrainingStatsCollector(train_dataset=train_dataset, tokenizer=tokenizer, model=model, bs=128)\n",
        "\n",
        "\n",
        "trainer = Trainer(\n",
        "    model=model,\n",
        "    args=training_args,\n",
        "    train_dataset=tokenized_train,\n",
        "    eval_dataset=tokenized_test,\n",
        "    tokenizer=tokenizer,\n",
        "    compute_metrics=compute_metrics,\n",
        "    callbacks=[stats_callback]\n",
        ")"
      ],
      "metadata": {
        "id": "SB8dzrSHzP85",
        "colab": {
          "base_uri": "https://localhost:8080/",
          "height": 116,
          "referenced_widgets": [
            "a0ba8b25f4c3401c8442b2d57f87a128",
            "fcace2a61a27487ca76547fca4fb7d4b",
            "e7e1343b146b48ac8462eedcb6e028c8",
            "a5bd7b42fdb04ae8b031369442324606",
            "f8441062b9cb46bbbd6a410ed8ce94c8",
            "165b97ac844e4a7b9027d8969abd9946",
            "7f4f992b94094311a26b21264e131f1d",
            "cd8b39dbd7b445b1b89c3505e165a36e",
            "7f8bc07a2a454007992bc3b33783b538",
            "6d096886a91a499b8ac7fc5f331d08b3",
            "e6efc9c8b02c4a3f9d410b8933ccb96c",
            "418b6f3277404a53ac61e7a77c57dd5e",
            "225f4769e6024bb8bdda7dad98125bbc",
            "101356a52ca74a99813e760797326070",
            "05bfa798371440f5b593fa953962a631",
            "24be59ddd9d04b4f90f6dff2a80cb08a",
            "7b7628e1efce4140b5c3cd51c03e96db",
            "3aa320bdfa2641f0ba8ae6d95877088b",
            "4f0373e3c37a44b9b32762f61f082dc2",
            "f86ae79aae1b49e7aa326d43318bfca4",
            "64539734e8394a23b757f98d3148ba75",
            "4d917d312134478d99d5b6da7540a9f1"
          ]
        },
        "outputId": "6d8d319e-b332-4da3-dea3-3a18ef616407"
      },
      "execution_count": 21,
      "outputs": [
        {
          "output_type": "display_data",
          "data": {
            "text/plain": [
              "Map:   0%|          | 0/39816 [00:00<?, ? examples/s]"
            ],
            "application/vnd.jupyter.widget-view+json": {
              "version_major": 2,
              "version_minor": 0,
              "model_id": "a0ba8b25f4c3401c8442b2d57f87a128"
            }
          },
          "metadata": {}
        },
        {
          "output_type": "display_data",
          "data": {
            "text/plain": [
              "Map:   0%|          | 0/9954 [00:00<?, ? examples/s]"
            ],
            "application/vnd.jupyter.widget-view+json": {
              "version_major": 2,
              "version_minor": 0,
              "model_id": "418b6f3277404a53ac61e7a77c57dd5e"
            }
          },
          "metadata": {}
        },
        {
          "output_type": "stream",
          "name": "stderr",
          "text": [
            "<ipython-input-21-0058c7c76391>:30: FutureWarning: `tokenizer` is deprecated and will be removed in version 5.0.0 for `Trainer.__init__`. Use `processing_class` instead.\n",
            "  trainer = Trainer(\n"
          ]
        }
      ]
    },
    {
      "cell_type": "code",
      "source": [
        "trainer.train()"
      ],
      "metadata": {
        "id": "jZo0M0zWyF3_",
        "colab": {
          "base_uri": "https://localhost:8080/",
          "height": 206
        },
        "outputId": "e4b1a36a-cf38-40a8-ecf9-36f817c19cff"
      },
      "execution_count": 22,
      "outputs": [
        {
          "output_type": "display_data",
          "data": {
            "text/plain": [
              "<IPython.core.display.HTML object>"
            ],
            "text/html": [
              "\n",
              "    <div>\n",
              "      \n",
              "      <progress value='936' max='936' style='width:300px; height:20px; vertical-align: middle;'></progress>\n",
              "      [936/936 56:07, Epoch 3/3]\n",
              "    </div>\n",
              "    <table border=\"1\" class=\"dataframe\">\n",
              "  <thead>\n",
              " <tr style=\"text-align: left;\">\n",
              "      <th>Epoch</th>\n",
              "      <th>Training Loss</th>\n",
              "      <th>Validation Loss</th>\n",
              "      <th>Accuracy</th>\n",
              "    </tr>\n",
              "  </thead>\n",
              "  <tbody>\n",
              "    <tr>\n",
              "      <td>1</td>\n",
              "      <td>No log</td>\n",
              "      <td>0.699706</td>\n",
              "      <td>0.698815</td>\n",
              "    </tr>\n",
              "    <tr>\n",
              "      <td>2</td>\n",
              "      <td>0.765400</td>\n",
              "      <td>0.681587</td>\n",
              "      <td>0.708358</td>\n",
              "    </tr>\n",
              "    <tr>\n",
              "      <td>3</td>\n",
              "      <td>0.765400</td>\n",
              "      <td>0.686556</td>\n",
              "      <td>0.711171</td>\n",
              "    </tr>\n",
              "  </tbody>\n",
              "</table><p>"
            ]
          },
          "metadata": {}
        },
        {
          "output_type": "execute_result",
          "data": {
            "text/plain": [
              "TrainOutput(global_step=936, training_loss=0.6735900161612747, metrics={'train_runtime': 3370.6959, 'train_samples_per_second': 35.437, 'train_steps_per_second': 0.278, 'total_flos': 7857092880193536.0, 'train_loss': 0.6735900161612747, 'epoch': 3.0})"
            ]
          },
          "metadata": {},
          "execution_count": 22
        }
      ]
    },
    {
      "cell_type": "code",
      "source": [
        "stats_callback.train_loss = [None, 0.765400, 0.765400]"
      ],
      "metadata": {
        "id": "O7Lrk2Hmrp8m"
      },
      "execution_count": 31,
      "outputs": []
    },
    {
      "cell_type": "code",
      "source": [
        "os.makedirs(\"plots\", exist_ok=True)\n",
        "\n",
        "plt.figure()\n",
        "plt.plot(stats_callback.train_loss, label=\"Train Loss\")\n",
        "plt.plot(stats_callback.eval_loss, label=\"Eval Loss\")\n",
        "plt.title(\"Loss Curve\")\n",
        "plt.xlabel(\"Epoch\")\n",
        "plt.ylabel('Loss')\n",
        "plt.legend()\n",
        "plt.savefig(\"plots/finbert_loss.png\")\n",
        "\n",
        "plt.figure()\n",
        "# Access eval_acc instead of eval_accuracy\n",
        "plt.plot(stats_callback.eval_acc, label=\"Eval Accuracy\")\n",
        "plt.plot(stats_callback.train_acc, label=\"Train Accuracy\")\n",
        "plt.title(\"Accuracy\")\n",
        "plt.xlabel(\"Epoch\")\n",
        "plt.ylabel('Accuracy')\n",
        "plt.legend()\n",
        "plt.savefig(\"plots/finbert_accuracy.png\")\n",
        "\n",
        "\n"
      ],
      "metadata": {
        "id": "1jB1bxUixrqW",
        "colab": {
          "base_uri": "https://localhost:8080/",
          "height": 927
        },
        "outputId": "fe9546b0-1a3e-4033-8890-20b225ea5a05"
      },
      "execution_count": 32,
      "outputs": [
        {
          "output_type": "display_data",
          "data": {
            "text/plain": [
              "<Figure size 640x480 with 1 Axes>"
            ],
            "image/png": "[encoded data removed]"
          },
          "metadata": {}
        },
        {
          "output_type": "display_data",
          "data": {
            "text/plain": [
              "<Figure size 640x480 with 1 Axes>"
            ],
            "image/png": "[encoded data removed]"
          },
          "metadata": {}
        }
      ]
    },
    {
      "cell_type": "code",
      "source": [
        "preds = trainer.predict(tokenized_test)\n",
        "y_pred = np.argmax(preds.predictions, axis=1)\n",
        "y_true = preds.label_ids\n",
        "\n",
        "print(\"Classification Report:\")\n",
        "print(classification_report(y_true, y_pred, target_names=le.classes_))\n",
        "\n",
        "cm = confusion_matrix(y_true, y_pred)\n",
        "plt.figure(figsize=(6, 5))\n",
        "sns.heatmap(cm, annot=True, fmt='d', cmap='Blues', xticklabels=le.classes_, yticklabels=le.classes_)\n",
        "plt.title(\"Confusion Matrix\")\n",
        "plt.xlabel(\"Predicted\")\n",
        "plt.ylabel(\"True\")\n",
        "plt.tight_layout()\n",
        "plt.savefig(\"plots/finbert_confusion_matrix.png\")"
      ],
      "metadata": {
        "colab": {
          "base_uri": "https://localhost:8080/",
          "height": 698
        },
        "id": "Lrr2qCSSct-0",
        "outputId": "c20b98f5-af95-415b-c33a-1a6ca52550be"
      },
      "execution_count": 24,
      "outputs": [
        {
          "output_type": "display_data",
          "data": {
            "text/plain": [
              "<IPython.core.display.HTML object>"
            ],
            "text/html": []
          },
          "metadata": {}
        },
        {
          "output_type": "stream",
          "name": "stdout",
          "text": [
            "Classification Report:\n",
            "              precision    recall  f1-score   support\n",
            "\n",
            "    Negative       0.70      0.75      0.72      3595\n",
            "     Neutral       0.75      0.70      0.72      4549\n",
            "    Positive       0.64      0.66      0.65      1810\n",
            "\n",
            "    accuracy                           0.71      9954\n",
            "   macro avg       0.69      0.70      0.70      9954\n",
            "weighted avg       0.71      0.71      0.71      9954\n",
            "\n"
          ]
        },
        {
          "output_type": "display_data",
          "data": {
            "text/plain": [
              "<Figure size 600x500 with 2 Axes>"
            ],
            "image/png": "[encoded data removed]"
          },
          "metadata": {}
        }
      ]
    },
    {
      "cell_type": "code",
      "source": [
        "def predict_unlabeled_texts(texts):\n",
        "    encodings = tokenizer(texts, padding=True, truncation=True, max_length=128, return_tensors=\"pt\")\n",
        "\n",
        "    # Move encodings to the same device as the model\n",
        "    encodings = {key: value.to(model.device) for key, value in encodings.items()}\n",
        "\n",
        "    with torch.no_grad():\n",
        "        outputs = model(**encodings)\n",
        "        preds = torch.argmax(outputs.logits, dim=1).cpu().numpy()\n",
        "    labels = le.inverse_transform(preds)\n",
        "    for text, label in zip(texts, labels):\n",
        "        print(f\"Text: {text}\\nPredicted Sentiment: {label}\\n\")\n",
        "\n",
        "# Example usage\n",
        "unlabeled_texts = [\n",
        "    \"Markets rallied today on strong earnings reports\",\n",
        "    \"The economic outlook remains uncertain\",\n",
        "    \"Tech stocks soared after a positive forecast\",\n",
        "    \"I love save my money to become a rich man\",\n",
        "    \"America had a bad economic experience during the Trump presidency\"\n",
        "]\n",
        "predict_unlabeled_texts(unlabeled_texts)"
      ],
      "metadata": {
        "colab": {
          "base_uri": "https://localhost:8080/"
        },
        "id": "U94tjTLEc_Op",
        "outputId": "ea122640-383a-46b1-8923-54714bddb7ce"
      },
      "execution_count": 25,
      "outputs": [
        {
          "output_type": "stream",
          "name": "stdout",
          "text": [
            "Text: Markets rallied today on strong earnings reports\n",
            "Predicted Sentiment: Positive\n",
            "\n",
            "Text: The economic outlook remains uncertain\n",
            "Predicted Sentiment: Neutral\n",
            "\n",
            "Text: Tech stocks soared after a positive forecast\n",
            "Predicted Sentiment: Negative\n",
            "\n",
            "Text: I love save my money to become a rich man\n",
            "Predicted Sentiment: Positive\n",
            "\n",
            "Text: America had a bad economic experience during the Trump presidency\n",
            "Predicted Sentiment: Negative\n",
            "\n"
          ]
        }
      ]
    },
    {
      "cell_type": "code",
      "source": [
        "import shutil\n",
        "from IPython.display import FileLink\n",
        "\n",
        "# Step 1: Create a directory and then zip the folder containing the plots (replace 'plots' with your folder name)\n",
        "!mkdir plots_Transformers # Create a directory if it doesn't exist\n",
        "shutil.make_archive('plots_Transformers_fine-tuned', 'zip', 'plots')\n",
        "\n",
        "# Step 2: Provide a download link\n",
        "FileLink('plots_Transformers_fine-tuned.zip')"
      ],
      "metadata": {
        "colab": {
          "base_uri": "https://localhost:8080/",
          "height": 52
        },
        "id": "mF97_VcFdBv0",
        "outputId": "02def422-b8a4-4a2c-dd99-1c955770ce91"
      },
      "execution_count": 33,
      "outputs": [
        {
          "output_type": "stream",
          "name": "stdout",
          "text": [
            "mkdir: cannot create directory ‘plots_Transformers’: File exists\n"
          ]
        },
        {
          "output_type": "execute_result",
          "data": {
            "text/plain": [
              "/content/drive/.shortcut-targets-by-id/1uYfTSnfokWDeAv9-_LyZu5MGDLuJlF_n/Reddit_dataset/plots_Transformers_fine-tuned.zip"
            ],
            "text/html": [
              "<a href='plots_Transformers_fine-tuned.zip' target='_blank'>plots_Transformers_fine-tuned.zip</a><br>"
            ]
          },
          "metadata": {},
          "execution_count": 33
        }
      ]
    }
  ]
}
